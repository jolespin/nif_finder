{
 "cells": [
  {
   "cell_type": "code",
   "execution_count": 2,
   "metadata": {},
   "outputs": [
    {
     "data": {
      "text/html": [
       "<script type=\"text/javascript\">window.PlotlyConfig = {MathJaxConfig: 'local'};</script><script type=\"text/javascript\">if (window.MathJax) {MathJax.Hub.Config({SVG: {font: \"STIX-Web\"}});}</script><script>requirejs.config({paths: { 'plotly': ['https://cdn.plot.ly/plotly-latest.min']},});if(!window._Plotly) {require(['plotly'],function(plotly) {window._Plotly=plotly;});}</script>"
      ],
      "text/vnd.plotly.v1+html": [
       "<script type=\"text/javascript\">window.PlotlyConfig = {MathJaxConfig: 'local'};</script><script type=\"text/javascript\">if (window.MathJax) {MathJax.Hub.Config({SVG: {font: \"STIX-Web\"}});}</script><script>requirejs.config({paths: { 'plotly': ['https://cdn.plot.ly/plotly-latest.min']},});if(!window._Plotly) {require(['plotly'],function(plotly) {window._Plotly=plotly;});}</script>"
      ]
     },
     "metadata": {},
     "output_type": "display_data"
    },
    {
     "name": "stderr",
     "output_type": "stream",
     "text": [
      "1.266822338104248 seconds\n"
     ]
    }
   ],
   "source": [
    "import soothsayer as sy\n",
    "%run ~/Google/.ipython-profile.py"
   ]
  },
  {
   "cell_type": "code",
   "execution_count": 3,
   "metadata": {},
   "outputs": [
    {
     "name": "stderr",
     "output_type": "stream",
     "text": [
      "Reading gff3 file:\t./grch38/Homo_sapiens.GRCh38.94.gff3.gz\n",
      "Processing lines: 100%|██████████| 2814993/2814993 [00:05<00:00, 494210.35it/s]\n",
      "Splitting fields: 1262162it [04:16, 4924.09it/s]\n"
     ]
    }
   ],
   "source": [
    "df_exons = sy.io.read_gff3(\"./grch38/Homo_sapiens.GRCh38.94.gff3.gz\", record_type=\"exon\", verbose=True)"
   ]
  },
  {
   "cell_type": "code",
   "execution_count": null,
   "metadata": {},
   "outputs": [],
   "source": []
  },
  {
   "cell_type": "code",
   "execution_count": 5,
   "metadata": {},
   "outputs": [
    {
     "name": "stderr",
     "output_type": "stream",
     "text": [
      "Reading sequence file: ./grch38/chromosomes/Homo_sapiens.GRCh38.dna.chromosome.1.fa.gz: 1it [00:06,  6.36s/it]\n",
      "Reading sequence file: ./grch38/chromosomes/Homo_sapiens.GRCh38.dna.chromosome.10.fa.gz: 1it [00:03,  3.39s/it]\n",
      "Reading sequence file: ./grch38/chromosomes/Homo_sapiens.GRCh38.dna.chromosome.11.fa.gz: 1it [00:03,  3.48s/it]\n",
      "Reading sequence file: ./grch38/chromosomes/Homo_sapiens.GRCh38.dna.chromosome.12.fa.gz: 1it [00:03,  3.35s/it]\n",
      "Reading sequence file: ./grch38/chromosomes/Homo_sapiens.GRCh38.dna.chromosome.13.fa.gz: 1it [00:02,  2.81s/it]\n",
      "Reading sequence file: ./grch38/chromosomes/Homo_sapiens.GRCh38.dna.chromosome.14.fa.gz: 1it [00:02,  2.62s/it]\n",
      "Reading sequence file: ./grch38/chromosomes/Homo_sapiens.GRCh38.dna.chromosome.15.fa.gz: 1it [00:02,  2.47s/it]\n",
      "Reading sequence file: ./grch38/chromosomes/Homo_sapiens.GRCh38.dna.chromosome.16.fa.gz: 1it [00:02,  2.21s/it]\n",
      "Reading sequence file: ./grch38/chromosomes/Homo_sapiens.GRCh38.dna.chromosome.17.fa.gz: 1it [00:02,  2.09s/it]\n",
      "Reading sequence file: ./grch38/chromosomes/Homo_sapiens.GRCh38.dna.chromosome.18.fa.gz: 1it [00:02,  2.02s/it]\n",
      "Reading sequence file: ./grch38/chromosomes/Homo_sapiens.GRCh38.dna.chromosome.19.fa.gz: 1it [00:01,  1.67s/it]\n",
      "Reading sequence file: ./grch38/chromosomes/Homo_sapiens.GRCh38.dna.chromosome.2.fa.gz: 1it [00:06,  6.57s/it]\n",
      "Reading sequence file: ./grch38/chromosomes/Homo_sapiens.GRCh38.dna.chromosome.20.fa.gz: 1it [00:01,  1.82s/it]\n",
      "Reading sequence file: ./grch38/chromosomes/Homo_sapiens.GRCh38.dna.chromosome.21.fa.gz: 1it [00:01,  1.18s/it]\n",
      "Reading sequence file: ./grch38/chromosomes/Homo_sapiens.GRCh38.dna.chromosome.22.fa.gz: 1it [00:01,  1.23s/it]\n",
      "Reading sequence file: ./grch38/chromosomes/Homo_sapiens.GRCh38.dna.chromosome.3.fa.gz: 1it [00:06,  6.59s/it]\n",
      "Reading sequence file: ./grch38/chromosomes/Homo_sapiens.GRCh38.dna.chromosome.4.fa.gz: 1it [00:05,  5.28s/it]\n",
      "Reading sequence file: ./grch38/chromosomes/Homo_sapiens.GRCh38.dna.chromosome.5.fa.gz: 1it [00:04,  4.98s/it]\n",
      "Reading sequence file: ./grch38/chromosomes/Homo_sapiens.GRCh38.dna.chromosome.6.fa.gz: 1it [00:04,  4.58s/it]\n",
      "Reading sequence file: ./grch38/chromosomes/Homo_sapiens.GRCh38.dna.chromosome.7.fa.gz: 1it [00:04,  4.13s/it]\n",
      "Reading sequence file: ./grch38/chromosomes/Homo_sapiens.GRCh38.dna.chromosome.8.fa.gz: 1it [00:03,  3.82s/it]\n",
      "Reading sequence file: ./grch38/chromosomes/Homo_sapiens.GRCh38.dna.chromosome.9.fa.gz: 1it [00:03,  3.67s/it]\n",
      "Reading sequence file: ./grch38/chromosomes/Homo_sapiens.GRCh38.dna.chromosome.MT.fa.gz: 1it [00:00, 536.77it/s]\n",
      "Reading sequence file: ./grch38/chromosomes/Homo_sapiens.GRCh38.dna.chromosome.X.fa.gz: 1it [00:04,  4.14s/it]\n",
      "Reading sequence file: ./grch38/chromosomes/Homo_sapiens.GRCh38.dna.chromosome.Y.fa.gz: 1it [00:01,  1.23s/it]\n",
      "Reading sequence file: ./grch38/chromosomes/Homo_sapiens.GRCh38.dna.nonchromosomal.fa.gz: 169it [00:00, 544.91it/s]\n"
     ]
    },
    {
     "name": "stdout",
     "output_type": "stream",
     "text": [
      "CPU times: user 1min 17s, sys: 4.29 s, total: 1min 21s\n",
      "Wall time: 1min 24s\n"
     ]
    }
   ],
   "source": [
    "%%time\n",
    "chromosomes = list()\n",
    "for file in os.scandir(\"./grch38/chromosomes/\"):\n",
    "    if file.name.endswith(\".gz\"):\n",
    "        chromosomes.append(sy.read_fasta(file, verbose=True, description=False))\n",
    "Se_assembly = pd.concat(chromosomes)\n"
   ]
  },
  {
   "cell_type": "code",
   "execution_count": 182,
   "metadata": {},
   "outputs": [],
   "source": [
    "import soothsayer as sy\n",
    "from soothsayer.utils import format_path, infer_compression\n",
    "def infer_compression(path:str):\n",
    "    path = format_path(path)\n",
    "    compression = None\n",
    "    ext_zip = (\".zip\")\n",
    "    ext_gzip = (\".gz\", \".gzip\", \".pgz\")\n",
    "    ext_bz2 = (\".bz2\", \".bzip2\", \".pbz2\")\n",
    "    if path.endswith(ext_gzip):\n",
    "        compression= \"gzip\"\n",
    "    if path.endswith(ext_bz2):\n",
    "        compression = \"bz2\"\n",
    "    if path.endswith(ext_zip):\n",
    "        compression = \"zip\"\n",
    "    return compression\n",
    "\n",
    "def get_file_object(path:str, mode=\"infer\", compression=\"infer\", safe_mode=False, verbose=True):\n",
    "    \"\"\"\n",
    "    with get_file_object(\"./test.txt.zip\", mode=\"infer\", verbose=False) as f_read:\n",
    "    with get_file_object(\"./test_write.txt.bz2\", mode=\"write\", verbose=False) as f_write:\n",
    "        for line in f_read.readlines():\n",
    "            line = str(line.strip())\n",
    "            print(line, file=f_write)\n",
    "    \"\"\"\n",
    "    # Init\n",
    "    f = None\n",
    "    write_file_object = False\n",
    "    \n",
    "    # Paths\n",
    "    path = format_path(path)\n",
    "    path_exists = os.path.exists(path)\n",
    "\n",
    "    if verbose:\n",
    "        header = \" \".join([\"Processing file:\", path])\n",
    "        print(\"=\"*len(header), header, \"=\"*len(header), sep=\"\\n\", file=sys.stderr)\n",
    "    if compression == \"infer\":\n",
    "        compression = infer_compression(path)\n",
    "        if verbose:\n",
    "            print(\"Inferring compression:\", compression, file=sys.stderr)\n",
    "\n",
    "    # Inferring mode\n",
    "    if mode == \"infer\": # Create new function for this? infer_filemode? \n",
    "        if path_exists:\n",
    "            mode = \"read\"\n",
    "        else:\n",
    "            mode = \"write\"\n",
    "    assert mode != \"infer\", \"The mode should be inferred by this point.  Please specify mode manually.\"\n",
    "    assert compression != \"infer\", \"The compression should be inferred by this point.  Please specify compression manually.\"\n",
    "\n",
    "    # Generic read write\n",
    "    if mode in [\"write\", \"read\"]:\n",
    "        if mode == \"write\":\n",
    "            mode = \"w\"\n",
    "        if mode == \"read\":\n",
    "            mode = \"r\"\n",
    "        if compression in [\"gzip\", \"bz2\"]:\n",
    "            mode = mode + \"b\"\n",
    "        if verbose:\n",
    "            print(\"Inferring mode:\", mode, file=sys.stderr)\n",
    "            \n",
    "    # Will a file be written?\n",
    "    if \"w\" in mode:\n",
    "        write_file_object = True\n",
    "        \n",
    "    # Ensure zip is not being written\n",
    "    if write_file_object:\n",
    "        assert compression != \"zip\", \"Currently cannot handle writing zip files.  Please use gzip, bz2, or None.\"\n",
    "        # Future do this:\n",
    "        # https://docs.python.org/3/library/zipfile.html#zipfile.ZipFile.open\n",
    "        \n",
    "    # Safe mode\n",
    "    if safe_mode:\n",
    "        if all([write_file_object, path_exists]):\n",
    "            raise Exception(f\"Safe Mode: Please explicitly provide a writeable mode because `{path}` already exists and will be rewritten.\")\n",
    "\n",
    "    # GZIP compression\n",
    "    if compression == \"gzip\":\n",
    "        f = gzip.open(path, mode)\n",
    "    # BZ2 compression\n",
    "    if compression == \"bz2\":\n",
    "        f = bz2.open(path, mode)\n",
    "    if compression == \"zip\":\n",
    "        filename, ext = os.path.splitext(os.path.split(path)[-1])\n",
    "        f = zipfile.ZipFile(path,mode).open(filename)\n",
    "    # No compression\n",
    "    if f is None:\n",
    "        return open(path, mode)\n",
    "    \n",
    "    # Reading and writing compressed files\n",
    "    else:\n",
    "        return TextIOWrapper(f, encoding=\"utf-8\")\n",
    "\n",
    "    \n",
    "with get_file_object(\"/Users/jespinoz/test.txt.zip\", mode=\"infer\", verbose=False) as f_read:\n",
    "    with get_file_object(\"/Users/jespinoz/test_write.txt.bz2\", mode=\"write\", verbose=False) as f_write:\n",
    "        for line in f_read.readlines():\n",
    "            line = str(line.strip())\n",
    "            print(line, file=f_write)"
   ]
  },
  {
   "cell_type": "code",
   "execution_count": 149,
   "metadata": {},
   "outputs": [],
   "source": [
    "from soothsayer.utils import format_path, infer_compression#, get_file_object\n",
    "\n",
    "def read_gff3(path:str, compression=\"infer\", record_type=None, verbose = True):\n",
    "    path = format_path(path)\n",
    "    if verbose: \n",
    "        print(f\"Reading gff3 file:\",path,sep=\"\\t\", file=sys.stderr)\n",
    "    accepted_recordtypes = {\"exon\", \"gene\", \"transcript\", \"protein\", None}\n",
    "    assert record_type in accepted_recordtypes, f\"Unrecognized record_type.  Please choose from the following: {accepted_recordtypes}\"\n",
    "    \n",
    "    # Read the gff3 file\n",
    "    with get_file_object(path, mode=\"read\", compression=compression, safe_mode=False, verbose=False) as f:\n",
    "        if verbose:\n",
    "            iterable_lines = tqdm(f.readlines(), \"Processing lines\")\n",
    "        else:\n",
    "            iterable_lines = f.readlines()\n",
    "        data= list()\n",
    "        if record_type is None:\n",
    "            for line in iterable_lines:\n",
    "                if not line.startswith(\"#\"):\n",
    "                    line = line.strip(\"\\n\")\n",
    "                    base_fields = line.split(\"\\t\")\n",
    "                    data.append(base_fields)\n",
    "        else:\n",
    "            for line in iterable_lines:\n",
    "                if not line.startswith(\"#\"):\n",
    "                    if f\"{record_type}_id\" in line:\n",
    "                        line = line.strip(\"\\n\")\n",
    "                        base_fields = line.split(\"\\t\")\n",
    "                        data.append(base_fields)\n",
    "                \n",
    "    # Generate table\n",
    "    df_base = pd.DataFrame(data)\n",
    "    df_base.columns = [\"seq_record\", \"ensembl\", \"seq_type\", \"pos_start\", \"pos_end\", \".1\", \"sense\", \".2\", \"gff_data\"]\n",
    "    # Splitting fields\n",
    "    if verbose:\n",
    "        iterable_fields = tqdm(enumerate(df_base.iloc[:,8].map(lambda x:dict([y.split(\"=\") for y in x.split(\";\")])).as_matrix()), \"Splitting fields\")\n",
    "    else:\n",
    "        iterable_fields = enumerate(df_base.iloc[:,8].map(lambda x:dict([y.split(\"=\") for y in x.split(\";\")])).as_matrix())\n",
    "    df_fields = pd.DataFrame(OrderedDict([(i,pd.Series(v)) for i,v in iterable_fields])).T\n",
    "    df_gff3 = pd.concat([df_base.iloc[:,:7], df_fields], axis=1)\n",
    "    \n",
    "     # Contains identifier\n",
    "    if \"ID\" in df_gff3.columns:\n",
    "        df_gff3[\"seq_id\"] = np.nan\n",
    "        mask_notnull = df_gff3[\"ID\"].notnull()\n",
    "        df_gff3[\"seq_id\"][mask_notnull] = df_gff3[\"ID\"][mask_notnull].map(lambda id:id.split(\":\")[1])\n",
    "    return df_gff3"
   ]
  },
  {
   "cell_type": "code",
   "execution_count": 189,
   "metadata": {},
   "outputs": [],
   "source": [
    "# Read Fasta File\n",
    "def read_fasta(path:str, description:bool=True, case=\"upper\", func_header=None, into=pd.Series, compression=\"infer\", name=None, verbose=True):\n",
    "    \"\"\"\n",
    "    Reads in a single fasta file or a directory of fasta files into a dictionary.\n",
    "    \"\"\"\n",
    "    # Get path\n",
    "    path = format_path(path)\n",
    "    \n",
    "    # Assign pathname as name if there isn't one\n",
    "    if name is None:\n",
    "        name = path\n",
    "\n",
    "    # Open file object\n",
    "    f = get_file_object(path, mode=\"read\", compression=compression, safe_mode=False, verbose=False)\n",
    "    \n",
    "    # Read in fasta\n",
    "    d_id_seq = OrderedDict()\n",
    "\n",
    "    if verbose:\n",
    "        seq_records = tqdm(SeqIO.FastaIO.SimpleFastaParser(f), f\"Reading sequence file: {path}\")\n",
    "    else:\n",
    "        seq_records = SeqIO.FastaIO.SimpleFastaParser(f)\n",
    "\n",
    "    # Verbose but faster\n",
    "    if case == \"lower\":\n",
    "        for header, seq in seq_records:\n",
    "            seq = seq.lower()\n",
    "            if not description:\n",
    "                header = header.split(\" \")[0]\n",
    "            d_id_seq[header] = seq\n",
    "    if case == \"upper\":\n",
    "        for header, seq in seq_records:\n",
    "            seq = seq.upper()\n",
    "            if not description:\n",
    "                header = header.split(\" \")[0]\n",
    "            d_id_seq[header] = seq\n",
    "    if case is None:\n",
    "        for header, seq in seq_records:\n",
    "            if not description:\n",
    "                header = header.split(\" \")[0]\n",
    "            d_id_seq[header] = seq\n",
    "\n",
    "    # Close File\n",
    "    f.close()\n",
    "\n",
    "    # Transform header\n",
    "    if func_header is not None:\n",
    "        d_id_seq = OrderedDict( [(func_header(id),seq) for id, seq in d_id_seq.items()])\n",
    "    sequences = into(d_id_seq)\n",
    "    if hasattr(sequences, \"name\"):\n",
    "        sequences.name = name\n",
    "    return sequences"
   ]
  },
  {
   "cell_type": "code",
   "execution_count": 196,
   "metadata": {},
   "outputs": [
    {
     "name": "stdout",
     "output_type": "stream",
     "text": [
      "\n",
      "522 µs ± 10.6 µs per loop (mean ± std. dev. of 7 runs, 1000 loops each)\n",
      ".gz\n",
      "822 µs ± 11.2 µs per loop (mean ± std. dev. of 7 runs, 1000 loops each)\n",
      ".bz2\n",
      "1.75 ms ± 20.7 µs per loop (mean ± std. dev. of 7 runs, 1000 loops each)\n",
      ".zip\n",
      "867 µs ± 10.6 µs per loop (mean ± std. dev. of 7 runs, 1000 loops each)\n"
     ]
    }
   ],
   "source": [
    "for ext in [\"\",\".gz\", \".bz2\", \".zip\"]:\n",
    "    print(ext)\n",
    "    %timeit read_fasta(f\"./cds.fa{ext}\", verbose=False)\n",
    "    "
   ]
  },
  {
   "cell_type": "code",
   "execution_count": 154,
   "metadata": {},
   "outputs": [
    {
     "name": "stderr",
     "output_type": "stream",
     "text": [
      "Reading gff3 file:\t/Users/jespinoz/Homo_sapiens.GRCh37.87.chromosome.Y.gff3.gz\n",
      "Processing lines: 100%|██████████| 7683/7683 [00:00<00:00, 671238.91it/s]\n",
      "Splitting fields: 3744it [00:00, 4457.76it/s]\n",
      "Reading gff3 file:\t/Users/jespinoz/Homo_sapiens.GRCh37.87.chromosome.Y.gff3.gz\n",
      "Processing lines: 100%|██████████| 7683/7683 [00:00<00:00, 1129190.47it/s]\n",
      "Splitting fields: 495it [00:00, 4739.92it/s]\n"
     ]
    }
   ],
   "source": [
    "df_gff3exons = read_gff3(\"/Users/jespinoz/Homo_sapiens.GRCh37.87.chromosome.Y.gff3.gz\", record_type=\"exon\")\n",
    "df_gff3genes = read_gff3(\"/Users/jespinoz/Homo_sapiens.GRCh37.87.chromosome.Y.gff3.gz\", record_type=\"gene\")"
   ]
  },
  {
   "cell_type": "code",
   "execution_count": 171,
   "metadata": {},
   "outputs": [
    {
     "data": {
      "text/plain": [
       "\u001b[0;31mSignature:\u001b[0m \u001b[0minfer_compression\u001b[0m\u001b[0;34m(\u001b[0m\u001b[0mpath\u001b[0m\u001b[0;34m:\u001b[0m\u001b[0mstr\u001b[0m\u001b[0;34m)\u001b[0m\u001b[0;34m\u001b[0m\u001b[0m\n",
       "\u001b[0;31mDocstring:\u001b[0m <no docstring>\n",
       "\u001b[0;31mSource:\u001b[0m   \n",
       "\u001b[0;32mdef\u001b[0m \u001b[0minfer_compression\u001b[0m\u001b[0;34m(\u001b[0m\u001b[0mpath\u001b[0m\u001b[0;34m:\u001b[0m\u001b[0mstr\u001b[0m\u001b[0;34m)\u001b[0m\u001b[0;34m:\u001b[0m\u001b[0;34m\u001b[0m\n",
       "\u001b[0;34m\u001b[0m    \u001b[0mpath\u001b[0m \u001b[0;34m=\u001b[0m \u001b[0mformat_path\u001b[0m\u001b[0;34m(\u001b[0m\u001b[0mpath\u001b[0m\u001b[0;34m)\u001b[0m\u001b[0;34m\u001b[0m\n",
       "\u001b[0;34m\u001b[0m    \u001b[0mcompression\u001b[0m \u001b[0;34m=\u001b[0m \u001b[0;32mNone\u001b[0m\u001b[0;34m\u001b[0m\n",
       "\u001b[0;34m\u001b[0m    \u001b[0mext_zip\u001b[0m \u001b[0;34m=\u001b[0m \u001b[0;34m(\u001b[0m\u001b[0;34m\".zip\"\u001b[0m\u001b[0;34m)\u001b[0m\u001b[0;34m\u001b[0m\n",
       "\u001b[0;34m\u001b[0m    \u001b[0mext_gzip\u001b[0m \u001b[0;34m=\u001b[0m \u001b[0;34m(\u001b[0m\u001b[0;34m\".gz\"\u001b[0m\u001b[0;34m,\u001b[0m \u001b[0;34m\".gzip\"\u001b[0m\u001b[0;34m,\u001b[0m \u001b[0;34m\".pgz\"\u001b[0m\u001b[0;34m)\u001b[0m\u001b[0;34m\u001b[0m\n",
       "\u001b[0;34m\u001b[0m    \u001b[0mext_bz2\u001b[0m \u001b[0;34m=\u001b[0m \u001b[0;34m(\u001b[0m\u001b[0;34m\".bz2\"\u001b[0m\u001b[0;34m,\u001b[0m \u001b[0;34m\".bzip2\"\u001b[0m\u001b[0;34m,\u001b[0m \u001b[0;34m\".pbz2\"\u001b[0m\u001b[0;34m)\u001b[0m\u001b[0;34m\u001b[0m\n",
       "\u001b[0;34m\u001b[0m    \u001b[0;32mif\u001b[0m \u001b[0mpath\u001b[0m\u001b[0;34m.\u001b[0m\u001b[0mendswith\u001b[0m\u001b[0;34m(\u001b[0m\u001b[0mext_gzip\u001b[0m\u001b[0;34m)\u001b[0m\u001b[0;34m:\u001b[0m\u001b[0;34m\u001b[0m\n",
       "\u001b[0;34m\u001b[0m        \u001b[0mcompression\u001b[0m\u001b[0;34m=\u001b[0m \u001b[0;34m\"gzip\"\u001b[0m\u001b[0;34m\u001b[0m\n",
       "\u001b[0;34m\u001b[0m    \u001b[0;32mif\u001b[0m \u001b[0mpath\u001b[0m\u001b[0;34m.\u001b[0m\u001b[0mendswith\u001b[0m\u001b[0;34m(\u001b[0m\u001b[0mext_bz2\u001b[0m\u001b[0;34m)\u001b[0m\u001b[0;34m:\u001b[0m\u001b[0;34m\u001b[0m\n",
       "\u001b[0;34m\u001b[0m        \u001b[0mcompression\u001b[0m \u001b[0;34m=\u001b[0m \u001b[0;34m\"bz2\"\u001b[0m\u001b[0;34m\u001b[0m\n",
       "\u001b[0;34m\u001b[0m    \u001b[0;32mif\u001b[0m \u001b[0mpath\u001b[0m\u001b[0;34m.\u001b[0m\u001b[0mendswith\u001b[0m\u001b[0;34m(\u001b[0m\u001b[0mext_zip\u001b[0m\u001b[0;34m)\u001b[0m\u001b[0;34m:\u001b[0m\u001b[0;34m\u001b[0m\n",
       "\u001b[0;34m\u001b[0m        \u001b[0mcompression\u001b[0m \u001b[0;34m=\u001b[0m \u001b[0;34m\"zip\"\u001b[0m\u001b[0;34m\u001b[0m\n",
       "\u001b[0;34m\u001b[0m    \u001b[0;32mreturn\u001b[0m \u001b[0mcompression\u001b[0m\u001b[0;34m\u001b[0m\u001b[0m\n",
       "\u001b[0;31mFile:\u001b[0m      ~/anaconda/envs/µ_env/lib/python3.6/site-packages/soothsayer/utils/utils.py\n",
       "\u001b[0;31mType:\u001b[0m      function\n"
      ]
     },
     "metadata": {},
     "output_type": "display_data"
    }
   ],
   "source": [
    "??infer_compression"
   ]
  },
  {
   "cell_type": "code",
   "execution_count": 27,
   "metadata": {},
   "outputs": [
    {
     "data": {
      "text/plain": [
       "'GCATCTCTGGGAAAGGACCTGGGGCTGGTGAGGGGCCCGGAGGAGCCTTTGCCCGCGTGTCAGACTCCATCCCTCCTCTGCCGCCACCGCAGCAGCCACAGGCAGAGGAGGACGAGGACGACTGGGAATCGTAGGGGGCTCCATGACACCTTCCCCCCCAGACCCAGACTTGGGCCGTTGCTCTGACATGGACACAGCCAGGACAAGCTGCTCAGACCTACTTCCTTGGGAGGGGGTGACGGAACCAGCACTGTGTGGAGACCAGCTTCAAGGAGCGGAAGGCTGGCTTGAGGCCACACAGCTGGGGCGGGGACTTCTGTCTGCCTGTGCTCCATGGGGGGACGGCTCCACCCAGCCTGCGCCACTGTGTTCTTAAGAGGCTTCCAGAGAAAACGGCACACCAATCAATAAAGAACTGAGCAGAAACCAACAGTGTGCTTTTAATAAAGGATCTCTAGCTGTGCAGG'"
      ]
     },
     "execution_count": 27,
     "metadata": {},
     "output_type": "execute_result"
    }
   ],
   "source": [
    "\n",
    "# Forward direction is start-1:end\n",
    "# str(Se_assembly[\"1 1 dna:chromosome chromosome:GRCh37:1:1:249250621:1 REF\"][11869-1:12227])\n",
    "\n",
    "# Reverse direction is reverse_complement(start-1:end)\n",
    "# reverse_complement(str(Se_assembly[\"1 1 dna:chromosome chromosome:GRCh37:1:1:249250621:1 REF\"][14363-1:14829]))\n",
    "\n",
    "# Note for the reverse, the first exon that appears is the last in the sequence\n"
   ]
  },
  {
   "cell_type": "code",
   "execution_count": 32,
   "metadata": {},
   "outputs": [
    {
     "data": {
      "text/plain": [
       "'ATGACTCCTGTGAGGATGCAGCACTCCCTGGCAGGTCAGACCTATGCCGTGCCCTTCATCCAGCCAGACCTGCGGCGAGAGGAGGCCGTCCAGCAGATGGCGGATGCCCTGCAGTACCTGCAGAAGGTCTCTGGAGACATCTTCAGCAGGTGGCAGGTAGAGCAGAGCCGGAGCCAGGTGCAGGCCATTGGAGAGAAGGTCTCCTTGGCCCAGGCCAAGATTGAGAAGATCAAGGGCAGCAAGAAGGCCATCAAGGTGTTCTCCAGTGCCAAGTACCCTGCTCCAGGGCGCCTGCAGGAATATGGCTCCATCTTCACGGGCGCCCAGGACCCTGGCCTGCAGAGACGCCCCCGCCACAGGATCCAGAGCAAGCACCGCCCCCTGGACGAGCGGGCCCTGCAGGAGAAGCTGAAGGACTTTCCTGTGTGCGTGAGCACCAAGCCGGAGCCCGAGGACGATGCAGAAGAGGGACTTGGGGGTCTTCCCAGCAACATCAGCTCTGTCAGCTCCTTGCTGCTCTTCAACACCACCGAGAACCTCCAGGGGAAGAAGTATGTCTTCCTGGACCCCCTGGCTGGTGCTGTAACAAAGACCCATGTGATGCTGGGGGCAGAGACAGAGGAGAAGCTGTTTGATGCCCCCTTGTCCATCAGCAAGAGAGAGCAGCTGGAACAGCAGGTCCCAGAGAACTACTTCTATGTGCCAGACCTGGGCCAGGTGCCTGAGATTGATGTTCCATCCTACCTGCCTGACCTGCCCGGCATTGCCAACGACCTCATGTACATTGCCGACCTGGGCCCCGGCATTGCCCCCTCTGCCCCTGGCACCATTCCAGAACTGCCCACCTTCCACACTGAGGTAGCCGAGCCTCTCAAGGTAGTGAGAGCCACGAGCCAAGGTGGGCACTTGATGTCGGATCTCTTCAACAAGCTGGTCATGAGGCGCAAGGGCATCTCTGGGAAAGGACCTGGGGCTGGTGAGGGGCCCGGAGGAGCCTTTGCCCGCGTGTCAGACTCCATCCCTCCTCTGCCGCCACCGCAGCAGCCACAGGCAGAGGAGGACGAGGACGACTGGGAATCGTAGGGGGCTCCATGACACCTTCCCCCCCAGACCCAGACTTGGGCCGTTGCTCTGACATGGACACAGCCAGGACAAGCTGCTCAGACCTACTTCCTTGGGAGGGGGTGACGGAACCAGCACTGTGTGGAGACCAGCTTCAAGGAGCGGAAGGCTGGCTTGAGGCCACACAGCTGGGGCGGGGACTTCTGTCTGCCTGTGCTCCATGGGGGGACGGCTCCACCCAGCCTGCGCCACTGTGTTCTTAAGAGGCTTCCAGAGAAAACGGCACACCAATCAATAAAGAACTGAGCAGAAACCAACAGTGTGCTTTTAATAAAGGATCTCTAGCTGTGCAGG'"
      ]
     },
     "execution_count": 32,
     "metadata": {},
     "output_type": "execute_result"
    }
   ],
   "source": [
    "df_gff"
   ]
  },
  {
   "cell_type": "code",
   "execution_count": null,
   "metadata": {},
   "outputs": [],
   "source": []
  },
  {
   "cell_type": "code",
   "execution_count": null,
   "metadata": {},
   "outputs": [],
   "source": []
  },
  {
   "cell_type": "code",
   "execution_count": 10,
   "metadata": {},
   "outputs": [
    {
     "data": {
      "text/plain": [
       "array([['7', '127588345', '127588565', '+', 'transcript:ENST00000000233',\n",
       "        'ENSE00001872691'],\n",
       "       ['7', '127589083', '127589163', '+', 'transcript:ENST00000000233',\n",
       "        'ENSE00003494180'],\n",
       "       ['7', '127589485', '127589594', '+', 'transcript:ENST00000000233',\n",
       "        'ENSE00003504066'],\n",
       "       ['7', '127590066', '127590137', '+', 'transcript:ENST00000000233',\n",
       "        'ENSE00003678978'],\n",
       "       ['7', '127590963', '127591088', '+', 'transcript:ENST00000000233',\n",
       "        'ENSE00003676786'],\n",
       "       ['7', '127591213', '127591705', '+', 'transcript:ENST00000000233',\n",
       "        'ENSE00000882271']], dtype=object)"
      ]
     },
     "execution_count": 10,
     "metadata": {},
     "output_type": "execute_result"
    }
   ],
   "source": []
  },
  {
   "cell_type": "code",
   "execution_count": 6,
   "metadata": {},
   "outputs": [
    {
     "name": "stderr",
     "output_type": "stream",
     "text": [
      "100%|██████████| 206601/206601 [01:39<00:00, 2068.72it/s]\n"
     ]
    }
   ],
   "source": [
    "fields = ['seq_record', 'pos_start', 'pos_end', 'sense', 'Parent',  'exon_id']\n",
    "df_exons = df_exons.loc[:,fields].sort_values([\"seq_record\", \"pos_start\"], ascending=True)\n",
    "\n",
    "for id_field in ['pos_start', 'pos_end']:\n",
    "    df_exons[id_field] = df_exons[id_field].astype(int)\n",
    "d_id_premrna = OrderedDict()\n",
    "not_work = list()\n",
    "for id_transcript, _df_exon in tqdm(df_exons.groupby(\"Parent\", axis=0)):\n",
    "    id_transcript = id_transcript[11:]\n",
    "    data = _df_exon.values\n",
    "    num_exons = data.shape[0]\n",
    "    id_reference = str(data[0][0])\n",
    "    sense = data[0][3]\n",
    "    seq_transcript_build = list()\n",
    "    if id_reference in Se_assembly:\n",
    "        seq_reference = Se_assembly[id_reference]\n",
    "        if data.shape[0] > 1:\n",
    "            for i in range(0, num_exons):\n",
    "                exon_start = data[i][1]-1 \n",
    "                exon_end = data[i][2]\n",
    "                seq_exon = seq_reference[exon_start:exon_end].upper()\n",
    "                seq_transcript_build.append(seq_exon)\n",
    "                if i < (num_exons-1):\n",
    "                    intron_start = exon_end\n",
    "                    intron_end = data[i+1][1] - 1\n",
    "                    seq_intron = seq_reference[intron_start:intron_end].lower()\n",
    "                    seq_transcript_build.append(seq_intron)\n",
    "        else:\n",
    "            pos_start = data[0][1]-1\n",
    "            pos_end = data[0][2]\n",
    "            seq_exon = seq_reference[pos_start:pos_end]\n",
    "            seq_transcript_build.append(seq_exon)\n",
    "        seq_transcript = \"\".join(seq_transcript_build)\n",
    "        if sense == \"-\":\n",
    "            seq_transcript = reverse_complement(seq_transcript)\n",
    "        d_id_premrna[id_transcript] = seq_transcript\n",
    "    else:\n",
    "        not_work.append(data)"
   ]
  },
  {
   "cell_type": "code",
   "execution_count": 8,
   "metadata": {},
   "outputs": [],
   "source": [
    "Se_premrna = pd.Series(d_id_premrna)"
   ]
  },
  {
   "cell_type": "code",
   "execution_count": 7,
   "metadata": {},
   "outputs": [],
   "source": [
    "# Not ready\n",
    "from soothsayer.utils import is_dict_like\n",
    "# Need to group proteins, genes, and transcripts together. have exon separate. have intron w/ unique identifiers based on exons. have premrna a custom one.\n",
    "def get_regions_from_gff3(path_gff3:str, path_sequences:str, record_type=\"premrna\"):\n",
    "    \n",
    "    def _get_exons():\n",
    "        \n",
    "    def _get_introns():\n",
    "    \n",
    "    def _get_premrna():\n",
    "        \n",
    "    def _get_transcripts():\n",
    "        \n",
    "    def _get_genes():\n",
    "        \n",
    "        \n",
    "    # Get gff3\n",
    "    if is_type(path_gff3, pd.DataFrame):\n",
    "        df_gff3 = path_gff3\n",
    "    else:\n",
    "        df_gff3 = read_gff3(path, compression=compression, record_type=\"exon\", verbose=False)\n",
    "    idx_exons = df_gff3[\"exon_id\"].dropna().index\n",
    "    df_gff3 = df_gff3.loc[idx_exons,:]\n",
    "    \n",
    "    # Get sequences\n",
    "    if is_dict_like(path_sequences):\n",
    "        Se_sequences = path_sequences\n",
    "    else:\n",
    "        Se_sequences = read_fasta(path_sequences, description=False, verbose=False)\n",
    "\n",
    "    d_id_seq = OrderedDict()\n",
    "    for id_transcript, df_gff3__exon in tqdm(df_gff3.groupby(\"Parent\", axis=0)):\n",
    "        id_transcript = id_transcript[11:]\n",
    "        data = df_gff3__exon.values\n",
    "        num_exons = data.shape[0]\n",
    "        id_reference = str(data[0][0])\n",
    "        sense = data[0][3]\n",
    "        seq_reference = Se_sequences[id_reference]\n",
    "        seq_transcript_build = list()\n",
    "        if data.shape[0] > 1:\n",
    "            for i in range(0, num_exons):\n",
    "                exon_start = data[i][1]-1 \n",
    "                exon_end = data[i][2]\n",
    "                seq_exon = seq_reference[exon_start:exon_end].upper()\n",
    "                seq_transcript_build.append(seq_exon)\n",
    "                if i < (num_exons-1):\n",
    "                    intron_start = exon_end\n",
    "                    intron_end = data[i+1][1] - 1\n",
    "                    seq_intron = seq_reference[intron_start:intron_end].lower()\n",
    "                    seq_transcript_build.append(seq_intron)\n",
    "        else:\n",
    "            pos_start = data[0][1]-1\n",
    "            pos_end = data[0][2]\n",
    "            seq_exon = seq_reference[pos_start:pos_end]\n",
    "            seq_transcript_build.append(seq_exon)\n",
    "        seq_transcript = \"\".join(seq_transcript_build)\n",
    "        if sense == \"-\":\n",
    "            seq_transcript = reverse_complement(seq_transcript)\n",
    "        d_id_seq[id_transcript] = seq_transcript"
   ]
  },
  {
   "cell_type": "code",
   "execution_count": 9,
   "metadata": {},
   "outputs": [],
   "source": [
    "sy.write_fasta(Se_premrna, \"./grch38/Homo_sapiens.GRCh38.94.premrna.fa\")"
   ]
  },
  {
   "cell_type": "code",
   "execution_count": 10,
   "metadata": {},
   "outputs": [
    {
     "name": "stderr",
     "output_type": "stream",
     "text": [
      "Reading sequence file: ./grch38/Homo_sapiens.GRCh38.cds.all.fa.gz: 109095it [00:05, 19148.90it/s]\n"
     ]
    }
   ],
   "source": [
    "Se_cds = sy.read_fasta(\"./grch38/Homo_sapiens.GRCh38.cds.all.fa.gz\", description=False, func_header=lambda id_transcript:id_transcript.split(\".\")[0])"
   ]
  },
  {
   "cell_type": "code",
   "execution_count": 11,
   "metadata": {},
   "outputs": [],
   "source": [
    "sy.write_fasta(Se_cds, \"./grch38/Homo_sapiens.GRCh38.cds.all.no-description.fa.gz\")"
   ]
  },
  {
   "cell_type": "code",
   "execution_count": 19,
   "metadata": {},
   "outputs": [
    {
     "data": {
      "text/plain": [
       "ENST00000441558    10001\n",
       "ENST00000513749    10001\n",
       "ENST00000548721    10001\n",
       "ENST00000523248    10001\n",
       "ENST00000575320    10001\n",
       "dtype: int64"
      ]
     },
     "execution_count": 19,
     "metadata": {},
     "output_type": "execute_result"
    }
   ],
   "source": [
    "Se_premrna.map(len).compress(lambda x:x > 10000).sort_values().head()"
   ]
  },
  {
   "cell_type": "code",
   "execution_count": 20,
   "metadata": {},
   "outputs": [
    {
     "data": {
      "text/plain": [
       "'GGTCCACCCGCGAATCCTCTACAGAGATGGCCAAGCGCTGGGGTCGTGGCTGCGTCCTCTAGGCCAGgtgagaatttacaacccaccctcggccactgttgtgctgtggccgctgatgattaagcatgaggaactcagaaactctgaaccttctgacaaacgggttctcccctgcccaccgcggtgccccaaacccagcaggacagattggtttacatggtggggcattggggaggacccagagctttcaataagggaagaaatgatgtggggagggacagtaaatcaaagtaggggattaggccgggcgctgtggctcacgtctgtaatcccagccctttgggaggctgaggcagatggatctctcgagactgggagttctagaccagcctggccaacatggcgaaaccccatctctactaaaaatacgaaaattagccgggcgtggtggcgcgcgcctgtaattccagctactagagaggctgaggcaggagaatcgcttgaaccctggaggcagaggttgcaatgaggcaagatggcgccactgcactccagcctgggctacagagcgagactgtctcaaaaaaaaaaaaaaaaaaaagtaggggattagagctggccacagcttccccagtaacctgcagttactggagcaggaaggggcctcggagaatccctggaagcatctcaacagaatccagaggggacaagaaaagaggagggatacgtctgtcgcatccttcccttctcattgatccaagtttgcactagtggtgtgagccctccttatcttccaggccttggtgggcagctgttgacatgtccagaaccccaggaagtgctgaaggtacctgcagttcaggccccatggaagcccagacctccttcacccttcggggacactgaaattggccaaatgtttaggccatgaggatggctgctgagtaagcccataatccctacatcggacacaagtaagcaggtgaaggcctacaggtagcaggtaggggccagtgaatcttggaagcaaagatttgggggtcaagaacagcagggagctctgggcccccatcctagcttcaaccagagcagctccaggactcctggctttccatatgggcttctggataaattttaggtactcctgaggctgaataagctggaaagcctctgccatcacccaactccgttattttagaggaggaacaggagccaaaatgggcagtgacttgtctgaggccttgccagcttgaagaaggaaatgtccgctgaacccaacagtggccctggtaaggcctggtgcattgcaagttaccggatgaaaatggtgactggccgggtgcagtggctcatgcctgtaatcccagccaaggcgggcaaatcacttgagatcaggagtttgagaccagcctggccaacatggtgaaaccctgtctttaccaaaaaatacaaaaattagctgggcatggtggcacgcacctgtagtcccagctacttgggaggctgagaggggagaatcgctggaacccaggaggtgaaggttgcaatgagccgagactgtgccactgcactccagcctgggtgacagagcaagagtccgtcacaaaacaaacaaaaacagaaacaaccccaaatgtccgtaagtaggagacaatatatccaacacatgaaatgctctgtggttcatgagaataaagaagacccatatgggttattctgaagcaggttccactacactaagctgcactaagtagttttaacaggcagaaatggaacagagtggaagtgcgtgcacttaggagggatactctccagggagaattcagggattgggtgggagaagggagccttgcttttcatggtccagccttttagacggttttaatgtttaccatgtgcatgtttcacttaaaaaccaaacaccctaggtgaggcatggtggctcacactgtaatcccagcactctgggaggccgaggcaggtggatcacttgagctcaggagtttgagaccatcctaagcaacatgacgaaactctaccaaaaatacaaaaaaaattcgccaggcatgatggtgtgtgcctgtggttccagctacctgggaggctaaggtgggagatcacttgagcctggaaggcagatgtatcagtgagccaagatcgtgccactgcactccagcctaggtgaccagggcgagacccccatctcaaacaaaacaccctagagtccccacccctctcgttctttaaacaccagcattgctgcccttcactttcttgcagccttgtgcaaaggaccttctcaccacagatcagccagaccatcttcctccttccaagtcatcaaagagttccaagctggtcacctgtcccttgatgttcccaggaaaccaggaaagaggacccctgcattttatcttcccatccagagtggcaggatctctgcctgggaaacaggcttcattcagcacagctgtggtagcattaacaaagcaaagtgggcacatgtagaagttgaagctaaaacattcaagaactccagtctgtttctgtggatgttaagggggtgaagataaaacaatggaggtgatgaggaggaataacttgaagacagtttaaagccacagtgatacaaagaatgaagagaaggaaggtgctggattttactaagaaaacagactgagttcaggagtctcaccagtagaactttatagtattgcgtttcgattacatgtgtgtgaattttaaaaactgattaccctccagtaaaaatgtggaaccaatttgcatttggattaaaacattaggtttggggacaaaagtggaccccatgctgcctgagatgaagagagagagcaggatggcagaggaatcaccagctcaagaaaccccaagacttggacagtcttccagcagaagaggccagggtctctcagtgtactactccaaacaggcctctcctagagatgtagtctgggaaggtccaaaacccaccagacaggcacatccagtggggaaaagacttcccattccagtgtggcctgcatccctcacctctgcttcccagtcttctgctgacctcagaggagcagggtggccattgctgatctgggttagggagatgccagaaacacacccaggtttgaaccacaggttagtggtacaaagtcacagtccttgtgccttcagaaaacccagaggccccaaatacgagtgggaagagagttgggaaaaactgaaccagactcttccaatggccattaaagagaaaattcagcaacgcttgcctttgtctttgaccctgagaagttaagggacacagattgtggcgccgtgatggaacatggagggaaggcatggtgtgcttcctgcagagatgcctctggagtccctgtggccacgggatctcactggccccctcttcaggcaccttgatggggctcagtggggccaggccgaagggtggaagtagaaaagcatcaacaggctgtccagatcaattggcaccatccaaggccctgctgcacccacacatggaggtcaccagctcagccccaggggttctttcacacacaagctccttccctaaggagtcctgtggggttccacactcagtgtgctgcccaagtcagagatttaccacagatctgtctccccctcaacctggactcaagttactgtggtgagaaacctcactgtccatggttaactgaagaaatccctccttcagaaagaacttgagtagtagatgaggtggttagacaggatctttttccctcaagctgtttggacgccacagccaggaccaactctgacagctgcgagagagagagcccctccaatgtggaacctcctacacagccccccttttgggtccctggatatgagcccccagcaggaccaccactctagggggaagtctccctcccatccctcagatccccacattgttcctcctgtaggagaaaagtcagccctgcccctggagcttctccaagatggcactggactcgccgttatcttgaggagccaggagctgaaatggctccggcttagcaacccagtatggccaaagtggaaaggttctctgtcctttgcagtcaccaaaaaaaaaaaaaaaaaaaaaaaaaaaaaaaaaaaagtatggtctcacaggcacagcatcttcttttaaaaaataaatatttataaacttaaggaagattcaaagaatcagggtatcttttcctccaaaaacacaaatgtcccgtgtaagtcaaaccaaggtgcgaccaccaacccatgaatgaagtcccctccccctgcagctacagggttgaggggcaggtgggcaggggagctgctctctctcctgccttcagtcccccttggtgatgaggtcctcaatgtaggcgtccagctcatcatctgtgttgatgtctatgtcctggaatagagcagggtagggatcaactgggggccagaaagtgattggggggctcacctttccacccttctctcagctcctgggatggagcccagagtcctctccctgacctcccaccccgccctggatgtcaggcttctgtcctgtcttaatcactctcccctccctcatctattgtgcacagatgatgcccagatttcctacgcccaccctgcctctaccccatgttcccaattgtcttagatgtatatttccctcagatactacaaatatgcccacttctctcccttctctgtcactgcccaaggtccaggccaccactgtctcagacaactgtgggagcctcctcacaggaggctctggttctaactttgacccctccaggcctcctccaaccaagcaggtacatgtctgagactgaaaactgcatcatgccacacccctccagtgatctccactgttctcgggatcaaaccccacaactttcaagccctgcctctgcccctaccgcccccaagtccctgctcaggcctcaagtcctgctcttcttccttctgcctggaatgctcgtgtcacactctttgcatgactggcttccagtgtctccaaatgcctaagcccctgaacaccctagtcaagtggcctccccacactttactgtatctccttatgaaccaccatcagtaattctctctcttccaccagactggcaggctgtgagagcaggaaccttctctggcttgtcttgttcattctgtatccacaggacaggcacagagcaggccctcatgcttattgcctggatgaagggccaacaggctaaggggtgctccccacttctgggctacccaatcccatctgggcgtcatgtggaaaagaacttcgtttttatggcttggagggttctcaaaccaggttgtacgtcggaatgtctaaagggaaaaagcctggttctatgggtctggctgggctgaggaccaggcagccacaccatctcaagccctcctgccagggtgctgtgcagccagggtgagaaccatagattcctgtgagtggatagattcttgtgagaacaggaacagggcccaggcccccctccctgagagaccaggtggtccagctgcaacaggaaggctgccgggctcacctcctgcaccttttgcaggagtgccacgatgttggtcctcagcttctgcagcttctcctccgtctcgcggagcttcctctcggaggtgcgcaggctttcctcggaggccttggcccgggagtcagcacggctctggtaggaattgcacaggttttggagccctacttcatattgcttgaagtactccttctgttgggagcagagcaagagggagagtgtgtaagttcacaggggtccccagggcccttctaggctgacacgggtgtctccagcccgctttacccaaggatgcctggtctgaaggaacatcttagatacaaagggcaaacagcctctttacgtccagagtagagagacatcaatgcctatcttgtggggctgccacaaggaagaagacaattagcacacaggtgaagcactcagcacagtgctctggcagacagcaggccgtgaggacgcgtgaggggcgattcttaccattccaagtgacaaaaaaggatgacagaatcgctcttccatgctcaatcataacctgtctgacttcagtacagccctttcaaccacccacttccaagacatacccaacaatgtcagcgctcatgtcagttctctttccacctaccaaccaacagcagatatctccagatctgtggagtagtatatacttctacagcatcagagctttttactattttccctgagtacctgaaacctccagggggagaggtaggaagggaaacaagcagtttttctagtggcttttcagacttataaaagggagcagaatacttgtttcaaatgaaatgtcacatggaatctcagtgtgaaaaacaatgttaagtagtatctctttaggttcaatttattttccaagttcaaatttataacatgacttactcgtaaatcactgagaatcatgaggccactgtgatgaacacacacgccacaaccagcaggtgctagctggctgctgcagtcttatcaactctggtgtttacttctgtaaagatgcattagctgcctagcctggagaggcttctagatgccatttttaaaaactgttactggcaagtatttaactgtgtcattcaccttatcctactaaaccaagatagcaagagaaacttctagttctacacaaaacagtaattgccttggcagcacaaaataaatactggagcaatctccaaagtattaaaattcagtatacaacatcttgaaagtagacatggtttgtaataattttttcttaattattttgaggtaactgtagattcacatataattgttacattagtttttttgaaaaaatgatactttaatattgcagggctcctgaggctctatggaactcctgatccatatggtataaaggacgtaactgacaaggacataatgaacagtagactttgttttatccctgatgctaaaaaaatagtttgagtgatggccaggcgtggtgcctcacacctgtaatcccagcactttgggaggccgaggcaggtggatcacgaggtcaggagatcgagaccatcctggctaacacggtgaaaccccatctctactaaaaatataaaaaattagccaggcgtggtggcgggtgcctgtagtcccagctactcaggaggctgaggcaggaggctgaggcaggagaatggtgtgaacccgggaggcagagctggcagtgagccgagattgcgccactgcactctagtctgggcaacagaacgagactctgtctcaaaaaaaaaaatagtttgagtgattttagacattacaattagcaggacaaaggtgatacactggtattatacctccttgtacaaaaagaagctaatatactttttttttgacacagTCTCGCTCTGTCACCCAGGCTGGAGTCCAGTGGCACAATTTCAGCTTACTACAACCTCTGCCTTTCCCCGGGTTCAAGCGATTTTCATGCCTCGGCCTCCCAAGTAGCTGGGATTACAGgcatgcaccacaacatctggctaatattttttgtacgttgtagtagagatggggtttcaccatattggccaggctggtctcaaactcctggcctcaagtgatccaccttcctcagcctcccaaagtgctgggattacaggcctgagcctccacacccagcctaatatactatttttagacactcatgcactttgtttgggcccaggcattcaagcccactgcagagatcctgctgcacccaggctctactctgagtttggcaataaccttaaaccaaaatcaacaaatctgacaagatgccaggccaacctagccaccctattagctgcttgttcctcctgggatttgcagagagcacctgcagcctaaacaaggacaaaagttgaagcatggatctttctgtgcagcagctgtgatttctgcaccttctagctccctcgccgagcaccactccctcatatcttgctggcagagcaaggcagcatcgtgagcagagcaagtcctaagaagtacatgggttcaaatctggtctctgtcactgaccaacagactctttacctttctgagccttagtttcttcaactcctgcttcatttcacattttaaaaagtagaataaagacaaactccatgtttttatctctggcaaactttatcaagcacacaactgccccacgaggacccgacatcttgaatatactaatcctgcagtttccattcccattgtcttttctctagaacctctttcctagaaaacttagctattcctataatagaaaaatcatcccacttcatgtggacaattcccagagccccatctccagccctggcctccccctccctccaagtgccagtccttgatctccacgtgcacaatgcacatcaccagaaacgtagtgagggcacttctggtgccacataaacctccactcgtcaccttcattgcactcacccatttttctctcctagttaatagctttgtcatcaacctccaattcccacagacctgagtcacttgcctacaatccatgatcagtctcctgacgacctctgacacagccctttcacccccaagcccactgccaccacgctgactcctgttcccattccctcacctctgaccttttacataggacctgcctcctcgcccctgcatctcccatccacccattctacccaaacacgctgctacccaaatcaccctcttaggggaaggggcagcagattacagcccctgggccgaatcagcctgccaagtgtttttgtaaataaagctttgtgggaacacagcacatccattcctttacatactgtctgtggttgctttcgtgctataatggcagagttgccacagagactgtatagcctgtgaacctgaaattacttgccaactggccctctacagaaaaaaatgtgtggacctctgccctagacatggtttggatgacagttccttcagctcaaaacttttgcaggctgtcctcttcatacagagtttaagccagtatgacttacactggggattcaagacacatcagatcctgactttcaggccccttgaccctaaatgctcaccacacagcctgttgcctggaccccactcccagagcctttgctcacagaagcccccacctcaaacactccttttcacttacacaggcaggcacttggcaaaatgcacattttcttccaactcagttgctctctctgccccccaggccaccacagccctccatagcctttctatccactttctcagcactcgctgctcctgcccccatgtccagctacccggtaacaactcagtctctactgaatcttgagcctcttgaaggcaagactctcttttgctgctcactatgaggtccagcagacacctgcttgggcaaggcaccccttcagcatttgctgggttaagtaagatccaatgcttatgtccacacatcacaagtttctctatacctccttctgagagtcaagttctatgcacttcgagcctcagctcttcactgttgcctgggacaggtttactccctctactggggcagaagaaagtgggtatgcttgtcataaaatgtcaaactacacctgctatccctaagggatgactcaactcctagcacctgtggtgggaaggggttggctttctgcacaccagagtcatatccagctaagccaatttttttcccacatcataaactctcctcttctttcagCAGGAGAGAGGCTGGCTGAGATGGAGCACACAGCTGAGAGCTAGCAACTGCAACAAGCGTAACAATCATAATCACAACAGTTACAACAAATGCAGGGGCAGGGGTGGGGGAATGAAGAGTGTGGAATCGAAGGTCAGGCCAGACTCACCAGAGGAAAAGATATTAGCTCATCTGAATTCATAGCACTCAGCTGCTTCTTGGAGATGGGGAAACTTGGAGGCAGGAAGTACCGTAAACAA'"
      ]
     },
     "execution_count": 20,
     "metadata": {},
     "output_type": "execute_result"
    }
   ],
   "source": [
    "Se_premrna[\"ENST00000441558\"]"
   ]
  },
  {
   "cell_type": "code",
   "execution_count": null,
   "metadata": {},
   "outputs": [],
   "source": []
  }
 ],
 "metadata": {
  "kernelspec": {
   "display_name": "Python 3",
   "language": "python",
   "name": "python3"
  },
  "language_info": {
   "codemirror_mode": {
    "name": "ipython",
    "version": 3
   },
   "file_extension": ".py",
   "mimetype": "text/x-python",
   "name": "python",
   "nbconvert_exporter": "python",
   "pygments_lexer": "ipython3",
   "version": "3.6.9"
  }
 },
 "nbformat": 4,
 "nbformat_minor": 4
}
