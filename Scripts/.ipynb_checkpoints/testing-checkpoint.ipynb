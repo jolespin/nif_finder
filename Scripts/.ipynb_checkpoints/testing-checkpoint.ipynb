{
 "cells": [
  {
   "cell_type": "code",
   "execution_count": 1,
   "metadata": {},
   "outputs": [
    {
     "name": "stderr",
     "output_type": "stream",
     "text": [
      "====================\n",
      "Soothsayer Ecosystem\n",
      "====================\n",
      " * Soothsayer v2021.07.27\n",
      " * Soothsayer Utilities v2021.07.27\n",
      " * Compositional v2020.12.16\n",
      " * Hive NetworkX v2021.05.18\n",
      " * Ensemble NetworkX v2021.06.24\n"
     ]
    }
   ],
   "source": [
    "import soothsayer as sy\n",
    "\n",
    "# %run ~/Google/.ipython-profile.py\n",
    "def tqdm(*args, **kwargs):\n",
    "    if hasattr(tqdm_base, '_instances'):\n",
    "        for instance in list(tqdm_base._instances):\n",
    "            tqdm_base._decr_instances(instance)\n",
    "    return tqdm_base(*args, **kwargs)"
   ]
  },
  {
   "cell_type": "code",
   "execution_count": 4,
   "metadata": {},
   "outputs": [
    {
     "name": "stderr",
     "output_type": "stream",
     "text": [
      "Processing lines: 100%|██████████| 1866443/1866443 [00:04<00:00, 425884.46it/s]\n"
     ]
    }
   ],
   "source": [
    "# df_exons = sy.io.read_gtf_gff_base(\"/Users/jespinoz/Documents/NMD/Mus_musculus.GRCm39/Mus_musculus.GRCm39.105.gtf.gz\", compression=\"gzip\", record_type=\"exon\", verbose=True)"
   ]
  },
  {
   "cell_type": "code",
   "execution_count": 43,
   "metadata": {},
   "outputs": [
    {
     "name": "stderr",
     "output_type": "stream",
     "text": [
      "Reading: /Users/jespinoz/Documents/NMD/Mus_musculus.GRCm39/Mus_musculus.GRCm39.dna.primary_assembly.fa.gz: 61 sequence [00:33,  1.82 sequence/s]\n"
     ]
    }
   ],
   "source": [
    "from Bio.SeqIO.FastaIO import SimpleFastaParser\n",
    "import gzip\n",
    "from tqdm import tqdm\n",
    "\n",
    "path_assembly = \"/Users/jespinoz/Documents/NMD/Mus_musculus.GRCm39/Mus_musculus.GRCm39.dna.primary_assembly.fa.gz\"\n",
    "path_gtf = \"/Users/jespinoz/Documents/NMD/Mus_musculus.GRCm39/Mus_musculus.GRCm39.105.gtf.gz\"\n",
    "\n",
    "\n",
    "# Assembly\n",
    "reference_to_sequence = OrderedDict()\n",
    "with {True:gzip.open, False:open}[path_assembly.endswith(\".gz\")](path_assembly, \"rt\") as f:\n",
    "    for id_record, sequence in tqdm(SimpleFastaParser(f), desc=\"Reading: {}\".format(path_assembly), unit=\" sequence\"):\n",
    "        id_record = id_record.split(\" \")[0]\n",
    "        reference_to_sequence[id_record] = sequence\n",
    "reference_to_sequence = pd.Series(reference_to_sequence)\n",
    "\n"
   ]
  },
  {
   "cell_type": "code",
   "execution_count": 81,
   "metadata": {},
   "outputs": [
    {
     "name": "stderr",
     "output_type": "stream",
     "text": [
      "Reading: /Users/jespinoz/Documents/NMD/Mus_musculus.GRCm39/Mus_musculus.GRCm39.105.gtf.gz: 100%|██████████| 1866443/1866443 [00:10<00:00, 177434.69 line/s]\n"
     ]
    }
   ],
   "source": [
    "# GTF\n",
    "exon_info = list()\n",
    "with {True:gzip.open, False:open}[path_gtf.endswith(\".gz\")](path_gtf, \"rt\") as f:\n",
    "    for line in tqdm(f.readlines(), desc=\"Reading: {}\".format(path_gtf), unit=\" line\"):\n",
    "        line = line.strip()\n",
    "        if \"\\texon\\t\" in line:\n",
    "            fields = line.split(\"\\t\")\n",
    "            id_reference = fields[0]\n",
    "            start = int(fields[3])\n",
    "            end = int(fields[4])\n",
    "            sense = fields[6]\n",
    "            id_gene = fields[-1].split('gene_id \"')[1].split('\"')[0] # Need a regex instead\n",
    "            id_transcript = fields[-1].split('transcript_id \"')[1].split('\"')[0] # Need a regex instead\n",
    "            exon_number = fields[-1].split('exon_number \"')[1].split('\"')[0] # Need a regex instead\n",
    "            transcript_version = fields[-1].split('transcript_version \"')[1].split('\"')[0] # Need a regex instead\n",
    "            exon_info.append([id_reference, start, end, sense, exon_number, id_gene, \"{}.{}\".format(id_transcript,transcript_version)])\n",
    "        \n",
    "df_exons = pd.DataFrame(exon_info, columns=[\"reference_id\", \"start\", \"end\", \"sense\", \"exon_number\", \"gene_id\", \"transcript_id\"]).sort_values([\"reference_id\",\"start\"]).reset_index(drop=True)\n"
   ]
  },
  {
   "cell_type": "code",
   "execution_count": 75,
   "metadata": {},
   "outputs": [
    {
     "data": {
      "text/html": [
       "<div>\n",
       "<style scoped>\n",
       "    .dataframe tbody tr th:only-of-type {\n",
       "        vertical-align: middle;\n",
       "    }\n",
       "\n",
       "    .dataframe tbody tr th {\n",
       "        vertical-align: top;\n",
       "    }\n",
       "\n",
       "    .dataframe thead th {\n",
       "        text-align: right;\n",
       "    }\n",
       "</style>\n",
       "<table border=\"1\" class=\"dataframe\">\n",
       "  <thead>\n",
       "    <tr style=\"text-align: right;\">\n",
       "      <th></th>\n",
       "      <th>reference_id</th>\n",
       "      <th>start</th>\n",
       "      <th>end</th>\n",
       "      <th>sense</th>\n",
       "      <th>exon_number</th>\n",
       "      <th>gene_id</th>\n",
       "      <th>transcript_id</th>\n",
       "    </tr>\n",
       "  </thead>\n",
       "  <tbody>\n",
       "    <tr>\n",
       "      <th>491009</th>\n",
       "      <td>3</td>\n",
       "      <td>108014596</td>\n",
       "      <td>108016632</td>\n",
       "      <td>-</td>\n",
       "      <td>9</td>\n",
       "      <td>ENSMUSG00000000001</td>\n",
       "      <td>ENSMUST00000000001</td>\n",
       "    </tr>\n",
       "    <tr>\n",
       "      <th>491010</th>\n",
       "      <td>3</td>\n",
       "      <td>108016719</td>\n",
       "      <td>108016928</td>\n",
       "      <td>-</td>\n",
       "      <td>8</td>\n",
       "      <td>ENSMUSG00000000001</td>\n",
       "      <td>ENSMUST00000000001</td>\n",
       "    </tr>\n",
       "    <tr>\n",
       "      <th>491011</th>\n",
       "      <td>3</td>\n",
       "      <td>108019251</td>\n",
       "      <td>108019404</td>\n",
       "      <td>-</td>\n",
       "      <td>7</td>\n",
       "      <td>ENSMUSG00000000001</td>\n",
       "      <td>ENSMUST00000000001</td>\n",
       "    </tr>\n",
       "    <tr>\n",
       "      <th>491012</th>\n",
       "      <td>3</td>\n",
       "      <td>108019789</td>\n",
       "      <td>108019918</td>\n",
       "      <td>-</td>\n",
       "      <td>6</td>\n",
       "      <td>ENSMUSG00000000001</td>\n",
       "      <td>ENSMUST00000000001</td>\n",
       "    </tr>\n",
       "    <tr>\n",
       "      <th>491013</th>\n",
       "      <td>3</td>\n",
       "      <td>108023079</td>\n",
       "      <td>108023207</td>\n",
       "      <td>-</td>\n",
       "      <td>5</td>\n",
       "      <td>ENSMUSG00000000001</td>\n",
       "      <td>ENSMUST00000000001</td>\n",
       "    </tr>\n",
       "    <tr>\n",
       "      <th>491014</th>\n",
       "      <td>3</td>\n",
       "      <td>108025617</td>\n",
       "      <td>108025774</td>\n",
       "      <td>-</td>\n",
       "      <td>4</td>\n",
       "      <td>ENSMUSG00000000001</td>\n",
       "      <td>ENSMUST00000000001</td>\n",
       "    </tr>\n",
       "    <tr>\n",
       "      <th>491015</th>\n",
       "      <td>3</td>\n",
       "      <td>108030858</td>\n",
       "      <td>108030999</td>\n",
       "      <td>-</td>\n",
       "      <td>3</td>\n",
       "      <td>ENSMUSG00000000001</td>\n",
       "      <td>ENSMUST00000000001</td>\n",
       "    </tr>\n",
       "    <tr>\n",
       "      <th>491016</th>\n",
       "      <td>3</td>\n",
       "      <td>108031111</td>\n",
       "      <td>108031153</td>\n",
       "      <td>-</td>\n",
       "      <td>2</td>\n",
       "      <td>ENSMUSG00000000001</td>\n",
       "      <td>ENSMUST00000000001</td>\n",
       "    </tr>\n",
       "    <tr>\n",
       "      <th>491017</th>\n",
       "      <td>3</td>\n",
       "      <td>108053204</td>\n",
       "      <td>108053462</td>\n",
       "      <td>-</td>\n",
       "      <td>1</td>\n",
       "      <td>ENSMUSG00000000001</td>\n",
       "      <td>ENSMUST00000000001</td>\n",
       "    </tr>\n",
       "  </tbody>\n",
       "</table>\n",
       "</div>"
      ],
      "text/plain": [
       "       reference_id      start        end sense exon_number  \\\n",
       "491009            3  108014596  108016632     -           9   \n",
       "491010            3  108016719  108016928     -           8   \n",
       "491011            3  108019251  108019404     -           7   \n",
       "491012            3  108019789  108019918     -           6   \n",
       "491013            3  108023079  108023207     -           5   \n",
       "491014            3  108025617  108025774     -           4   \n",
       "491015            3  108030858  108030999     -           3   \n",
       "491016            3  108031111  108031153     -           2   \n",
       "491017            3  108053204  108053462     -           1   \n",
       "\n",
       "                   gene_id       transcript_id  \n",
       "491009  ENSMUSG00000000001  ENSMUST00000000001  \n",
       "491010  ENSMUSG00000000001  ENSMUST00000000001  \n",
       "491011  ENSMUSG00000000001  ENSMUST00000000001  \n",
       "491012  ENSMUSG00000000001  ENSMUST00000000001  \n",
       "491013  ENSMUSG00000000001  ENSMUST00000000001  \n",
       "491014  ENSMUSG00000000001  ENSMUST00000000001  \n",
       "491015  ENSMUSG00000000001  ENSMUST00000000001  \n",
       "491016  ENSMUSG00000000001  ENSMUST00000000001  \n",
       "491017  ENSMUSG00000000001  ENSMUST00000000001  "
      ]
     },
     "execution_count": 75,
     "metadata": {},
     "output_type": "execute_result"
    }
   ],
   "source": [
    "# + ENSMUST00000161581\n",
    "# - ENSMUST00000001008\n",
    "# i = 0 \n",
    "# for id_transcript, df in tqdm(df_exons.query(\"sense == '-'\").groupby(\"transcript_id\", axis=0), desc=\"Merging exon sequences\", unit=\" transcript\"):\n",
    "#     if df.shape[0] == 4:\n",
    "#         i += 1\n",
    "#         if i == 4:\n",
    "#             break\n",
    "# df\n",
    "\n",
    "df_exons.query(\"transcript_id == 'ENSMUST00000000001'\")"
   ]
  },
  {
   "cell_type": "code",
   "execution_count": 82,
   "metadata": {},
   "outputs": [
    {
     "name": "stderr",
     "output_type": "stream",
     "text": [
      "Merging exon sequences: 100%|██████████| 142435/142435 [00:38<00:00, 3653.74 transcript/s]\n"
     ]
    }
   ],
   "source": [
    "complement = str.maketrans('ACGTacgt','TGCAtgca')\n",
    "\n",
    "def reverse_complement(sequence):\n",
    "    \"\"\"\n",
    "    Inputs a sequence of DNA and returns the reverse complement se$\n",
    "    Outputs a reversed string of the input where A>T, T>A, G>C, an$\n",
    "    \"\"\"\n",
    "\n",
    "    reverse_complement = sequence.translate(complement)[::-1]\n",
    "    return reverse_complement\n",
    "\n",
    "\n",
    "transcript_to_premRNA = dict()\n",
    "\n",
    "error_transcripts = list()\n",
    "for id_transcript, df in tqdm(df_exons.groupby(\"transcript_id\", axis=0), desc=\"Merging exon sequences\", unit=\" transcript\"):\n",
    "    values = df.values\n",
    "    number_of_exons = values.shape[0]\n",
    "    id_reference = str(values[0][0])\n",
    "    sense = values[0][3]\n",
    "    \n",
    "    exon_sequences = list()\n",
    "    if id_reference in reference_to_sequence:\n",
    "        sequence_reference = reference_to_sequence[id_reference]\n",
    "        \n",
    "        # More than 1 exon\n",
    "        if number_of_exons > 1:\n",
    "            for i in range(0, number_of_exons):\n",
    "                row = values[i]\n",
    "                exon_start = row[1] - 1 \n",
    "                exon_end = row[2]\n",
    "                sequence_exon = sequence_reference[exon_start:exon_end].upper()\n",
    "                exon_sequences.append(sequence_exon)\n",
    "                \n",
    "                if i < (number_of_exons - 1):\n",
    "                    intron_start = exon_end\n",
    "                    intron_end = values[i+1][1] - 1\n",
    "                    sequence_intron = sequence_reference[intron_start:intron_end].lower()\n",
    "                    exon_sequences.append(sequence_intron)\n",
    "                    \n",
    "        # Only 1 exon\n",
    "        else:\n",
    "            exon_start = values[0][1] - 1\n",
    "            exon_end = values[0][2]\n",
    "            sequence_exon = sequence_reference[exon_start:exon_end]\n",
    "            exon_sequences.append(sequence_exon)\n",
    "            \n",
    "        sequence_premRNA = \"\".join(exon_sequences)\n",
    "        \n",
    "        if sense == \"-\":\n",
    "            sequence_premRNA = reverse_complement(sequence_premRNA)\n",
    "            \n",
    "        transcript_to_premRNA[id_transcript] = sequence_premRNA\n",
    "    else:\n",
    "        error_transcripts.append(values)\n",
    "transcript_to_premRNA = pd.Series(transcript_to_premRNA)\n"
   ]
  },
  {
   "cell_type": "code",
   "execution_count": 84,
   "metadata": {},
   "outputs": [
    {
     "data": {
      "text/plain": [
       "ENSMUST00000000001.5     CACACATCCGGTTCTTCCGGGAGCTAGGGGAGCTGACGGAGAAGGC...\n",
       "ENSMUST00000000003.14    GTCAGTGCACAACTGCCAACTGGGATGCAGAACACTGCTCACGCCA...\n",
       "ENSMUST00000000010.9     GGTCCGTGTGCCACCTTTTCCCTGCTTGGGCGCCGCGGCGCGAGCG...\n",
       "ENSMUST00000000028.14    TGGAAACACATTCAAATAATGTGTGACTGAATTTACTTTATGTCTA...\n",
       "ENSMUST00000000033.12    GGCACTGACCAGTTCGCAAACTGGACATTAGCTTCTCCTGTGAGAA...\n",
       "                                               ...                        \n",
       "ENSMUST00020183809.1     AGGTGAATGGAGTAACCTGACAGCGGGAACGAGACGACGGCGAGCG...\n",
       "ENSMUST00020183810.1     GTCATCGCCACCATCCCTACCAGCAGGCTCAAGTTCCTGAAAGAGG...\n",
       "ENSMUST00020183811.1     GGCTGCGCGGGGAATTCGAATCGCCGGCGGCCTTCGAGACTCGGGG...\n",
       "ENSMUST00020183812.1     GTTGCGTTACTTCCGCTGGTGCAGGAGCTGAGTTTCCGCGGGATCA...\n",
       "ENSMUST00020183813.1     AAGCTGTCTCTCCTGAGCTCTTTCATGTTATTGATGACTTTGTGAA...\n",
       "Length: 142435, dtype: object"
      ]
     },
     "execution_count": 84,
     "metadata": {},
     "output_type": "execute_result"
    }
   ],
   "source": [
    "# + ENSMUST00000161581\n",
    "# - ENSMUST00000000001\n",
    "# transcript_to_premRNA[\"ENSMUST00000000001\"]\n",
    "transcript_to_premRNA"
   ]
  },
  {
   "cell_type": "code",
   "execution_count": 86,
   "metadata": {},
   "outputs": [
    {
     "data": {
      "text/plain": [
       "ENSMUST00000178537.2                                          GGGACAGGGGGC\n",
       "ENSMUST00000178862.2                                        GGGACTGGGGGGGC\n",
       "ENSMUST00000196221.2                                             ATGGCATAT\n",
       "ENSMUST00000177564.2                                      ATCGGAGGGATACGAG\n",
       "ENSMUST00000179520.2                                           CTAACTGGGAC\n",
       "                                               ...                        \n",
       "ENSMUST00000052927.11    ATGGCCAGCCACGTGGACCTGCTCACAGAGCTGCAGCTGCTGGAGA...\n",
       "ENSMUST00000103116.10    ATGGCCAGCCACGTGGACCTGCTCACAGAGCTGCAGCTGCTGGAGA...\n",
       "ENSMUST00000045503.11    ATGGCCAGCCACGTGGACCTGCTCACAGAGCTGCAGCTGCTGGAGA...\n",
       "ENSMUST00000145073.2     GGACGTCGCAAGAAGGTGTCCTTCGAGGCCAGTGTAGCGTTGCTGG...\n",
       "ENSMUST00000099133.11    ATGACAGAGCCGTCCCTTCTCCCTGCTGCCAAGATGGAAGGGCTGG...\n",
       "Name: /Users/jespinoz/Documents/NMD/Mus_musculus.GRCm39/Mus_musculus.GRCm39.cds.all.fa.gz, Length: 67165, dtype: object"
      ]
     },
     "execution_count": 86,
     "metadata": {},
     "output_type": "execute_result"
    }
   ],
   "source": [
    "sequences_cds = sy.io.read_fasta(\"/Users/jespinoz/Documents/NMD/Mus_musculus.GRCm39/Mus_musculus.GRCm39.cds.all.fa.gz\", False)\n",
    "sequences_cds"
   ]
  },
  {
   "cell_type": "code",
   "execution_count": 88,
   "metadata": {},
   "outputs": [
    {
     "data": {
      "text/plain": [
       "'GGGACAGGGGGC'"
      ]
     },
     "execution_count": 88,
     "metadata": {},
     "output_type": "execute_result"
    }
   ],
   "source": [
    "transcript_to_premRNA[\"ENSMUST00000178537.2\"]"
   ]
  },
  {
   "cell_type": "code",
   "execution_count": null,
   "metadata": {},
   "outputs": [],
   "source": []
  },
  {
   "cell_type": "code",
   "execution_count": null,
   "metadata": {},
   "outputs": [],
   "source": [
    "fields = ['seq_record', 'pos_start', 'pos_end', 'sense', 'transcript_id',  'exon_id']\n",
    "df_data = df_exons.loc[:,fields].sort_values([\"seq_record\", \"pos_start\"], ascending=True)\n",
    "\n",
    "for id_field in ['pos_start', 'pos_end']:\n",
    "    df_exons[id_field] = df_data[id_field].astype(int)\n",
    "d_id_premrna = OrderedDict()\n",
    "not_work = list()\n",
    "for id_transcript, _df_exon in tqdm(df_data.groupby(\"transcript_id\", axis=0)):\n",
    "#     id_transcript = id_transcript[11:]\n",
    "#     print(id_transcript)\n",
    "    data = _df_exon.values\n",
    "    num_exons = data.shape[0]\n",
    "    id_reference = str(data[0][0])\n",
    "    sense = data[0][3]\n",
    "    seq_transcript_build = list()\n",
    "    if id_reference in Se_assembly:\n",
    "        seq_reference = Se_assembly[id_reference]\n",
    "        if data.shape[0] > 1:\n",
    "            for i in range(0, num_exons):\n",
    "                exon_start = data[i][1]-1 \n",
    "                exon_end = data[i][2]\n",
    "                seq_exon = seq_reference[exon_start:exon_end].upper()\n",
    "                seq_transcript_build.append(seq_exon)\n",
    "                if i < (num_exons-1):\n",
    "                    intron_start = exon_end\n",
    "                    intron_end = data[i+1][1] - 1\n",
    "                    seq_intron = seq_reference[intron_start:intron_end].lower()\n",
    "                    seq_transcript_build.append(seq_intron)\n",
    "        else:\n",
    "            pos_start = data[0][1]-1\n",
    "            pos_end = data[0][2]\n",
    "            seq_exon = seq_reference[pos_start:pos_end]\n",
    "            seq_transcript_build.append(seq_exon)\n",
    "        seq_transcript = \"\".join(seq_transcript_build)\n",
    "        if sense == \"-\":\n",
    "            seq_transcript = reverse_complement(seq_transcript)\n",
    "        d_id_premrna[id_transcript] = seq_transcript\n",
    "    else:\n",
    "        not_work.append(data)\n"
   ]
  },
  {
   "cell_type": "code",
   "execution_count": 6,
   "metadata": {},
   "outputs": [
    {
     "name": "stdout",
     "output_type": "stream",
     "text": [
      "CPU times: user 30.4 s, sys: 1.92 s, total: 32.3 s\n",
      "Wall time: 32.6 s\n"
     ]
    }
   ],
   "source": [
    "%%time\n",
    "# chromosomes = list()\n",
    "# for file in os.scandir(\"./grch38/chromosomes/\"):\n",
    "#     if file.name.endswith(\".gz\"):\n",
    "#         chromosomes.append(sy.read_fasta(file, verbose=True, description=False))\n",
    "# Se_assembly = pd.concat(chromosomes)\n",
    "Se_assembly = sy.io.read_fasta(\"/Users/jespinoz/Documents/NMD/Mus_musculus.GRCm39/Mus_musculus.GRCm39.dna.primary_assembly.fa.gz\", description=False)\n"
   ]
  },
  {
   "cell_type": "code",
   "execution_count": 6,
   "metadata": {},
   "outputs": [],
   "source": [
    "# import soothsayer as sy\n",
    "# from soothsayer.utils import format_path, infer_compression\n",
    "# def infer_compression(path:str):\n",
    "#     path = format_path(path)\n",
    "#     compression = None\n",
    "#     ext_zip = (\".zip\")\n",
    "#     ext_gzip = (\".gz\", \".gzip\", \".pgz\")\n",
    "#     ext_bz2 = (\".bz2\", \".bzip2\", \".pbz2\")\n",
    "#     if path.endswith(ext_gzip):\n",
    "#         compression= \"gzip\"\n",
    "#     if path.endswith(ext_bz2):\n",
    "#         compression = \"bz2\"\n",
    "#     if path.endswith(ext_zip):\n",
    "#         compression = \"zip\"\n",
    "#     return compression\n",
    "\n",
    "# def get_file_object(path:str, mode=\"infer\", compression=\"infer\", safe_mode=False, verbose=True):\n",
    "#     \"\"\"\n",
    "#     with get_file_object(\"./test.txt.zip\", mode=\"infer\", verbose=False) as f_read:\n",
    "#     with get_file_object(\"./test_write.txt.bz2\", mode=\"write\", verbose=False) as f_write:\n",
    "#         for line in f_read.readlines():\n",
    "#             line = str(line.strip())\n",
    "#             print(line, file=f_write)\n",
    "#     \"\"\"\n",
    "#     # Init\n",
    "#     f = None\n",
    "#     write_file_object = False\n",
    "    \n",
    "#     # Paths\n",
    "#     path = format_path(path)\n",
    "#     path_exists = os.path.exists(path)\n",
    "\n",
    "#     if verbose:\n",
    "#         header = \" \".join([\"Processing file:\", path])\n",
    "#         print(\"=\"*len(header), header, \"=\"*len(header), sep=\"\\n\", file=sys.stderr)\n",
    "#     if compression == \"infer\":\n",
    "#         compression = infer_compression(path)\n",
    "#         if verbose:\n",
    "#             print(\"Inferring compression:\", compression, file=sys.stderr)\n",
    "\n",
    "#     # Inferring mode\n",
    "#     if mode == \"infer\": # Create new function for this? infer_filemode? \n",
    "#         if path_exists:\n",
    "#             mode = \"read\"\n",
    "#         else:\n",
    "#             mode = \"write\"\n",
    "#     assert mode != \"infer\", \"The mode should be inferred by this point.  Please specify mode manually.\"\n",
    "#     assert compression != \"infer\", \"The compression should be inferred by this point.  Please specify compression manually.\"\n",
    "\n",
    "#     # Generic read write\n",
    "#     if mode in [\"write\", \"read\"]:\n",
    "#         if mode == \"write\":\n",
    "#             mode = \"w\"\n",
    "#         if mode == \"read\":\n",
    "#             mode = \"r\"\n",
    "#         if compression in [\"gzip\", \"bz2\"]:\n",
    "#             mode = mode + \"b\"\n",
    "#         if verbose:\n",
    "#             print(\"Inferring mode:\", mode, file=sys.stderr)\n",
    "            \n",
    "#     # Will a file be written?\n",
    "#     if \"w\" in mode:\n",
    "#         write_file_object = True\n",
    "        \n",
    "#     # Ensure zip is not being written\n",
    "#     if write_file_object:\n",
    "#         assert compression != \"zip\", \"Currently cannot handle writing zip files.  Please use gzip, bz2, or None.\"\n",
    "#         # Future do this:\n",
    "#         # https://docs.python.org/3/library/zipfile.html#zipfile.ZipFile.open\n",
    "        \n",
    "#     # Safe mode\n",
    "#     if safe_mode:\n",
    "#         if all([write_file_object, path_exists]):\n",
    "#             raise Exception(f\"Safe Mode: Please explicitly provide a writeable mode because `{path}` already exists and will be rewritten.\")\n",
    "\n",
    "#     # GZIP compression\n",
    "#     if compression == \"gzip\":\n",
    "#         f = gzip.open(path, mode)\n",
    "#     # BZ2 compression\n",
    "#     if compression == \"bz2\":\n",
    "#         f = bz2.open(path, mode)\n",
    "#     if compression == \"zip\":\n",
    "#         filename, ext = os.path.splitext(os.path.split(path)[-1])\n",
    "#         f = zipfile.ZipFile(path,mode).open(filename)\n",
    "#     # No compression\n",
    "#     if f is None:\n",
    "#         return open(path, mode)\n",
    "    \n",
    "#     # Reading and writing compressed files\n",
    "#     else:\n",
    "#         return TextIOWrapper(f, encoding=\"utf-8\")\n",
    "\n",
    "    \n",
    "# with get_file_object(\"/Users/jespinoz/test.txt.zip\", mode=\"infer\", verbose=False) as f_read:\n",
    "#     with get_file_object(\"/Users/jespinoz/test_write.txt.bz2\", mode=\"write\", verbose=False) as f_write:\n",
    "#         for line in f_read.readlines():\n",
    "#             line = str(line.strip())\n",
    "#             print(line, file=f_write)"
   ]
  },
  {
   "cell_type": "code",
   "execution_count": 149,
   "metadata": {},
   "outputs": [],
   "source": [
    "# from soothsayer.utils import format_path, infer_compression#, get_file_object\n",
    "\n",
    "# def read_gff3(path:str, compression=\"infer\", record_type=None, verbose = True):\n",
    "#     path = format_path(path)\n",
    "#     if verbose: \n",
    "#         print(f\"Reading gff3 file:\",path,sep=\"\\t\", file=sys.stderr)\n",
    "#     accepted_recordtypes = {\"exon\", \"gene\", \"transcript\", \"protein\", None}\n",
    "#     assert record_type in accepted_recordtypes, f\"Unrecognized record_type.  Please choose from the following: {accepted_recordtypes}\"\n",
    "    \n",
    "#     # Read the gff3 file\n",
    "#     with get_file_object(path, mode=\"read\", compression=compression, safe_mode=False, verbose=False) as f:\n",
    "#         if verbose:\n",
    "#             iterable_lines = tqdm(f.readlines(), \"Processing lines\")\n",
    "#         else:\n",
    "#             iterable_lines = f.readlines()\n",
    "#         data= list()\n",
    "#         if record_type is None:\n",
    "#             for line in iterable_lines:\n",
    "#                 if not line.startswith(\"#\"):\n",
    "#                     line = line.strip(\"\\n\")\n",
    "#                     base_fields = line.split(\"\\t\")\n",
    "#                     data.append(base_fields)\n",
    "#         else:\n",
    "#             for line in iterable_lines:\n",
    "#                 if not line.startswith(\"#\"):\n",
    "#                     if f\"{record_type}_id\" in line:\n",
    "#                         line = line.strip(\"\\n\")\n",
    "#                         base_fields = line.split(\"\\t\")\n",
    "#                         data.append(base_fields)\n",
    "                \n",
    "#     # Generate table\n",
    "#     df_base = pd.DataFrame(data)\n",
    "#     df_base.columns = [\"seq_record\", \"ensembl\", \"seq_type\", \"pos_start\", \"pos_end\", \".1\", \"sense\", \".2\", \"gff_data\"]\n",
    "#     # Splitting fields\n",
    "#     if verbose:\n",
    "#         iterable_fields = tqdm(enumerate(df_base.iloc[:,8].map(lambda x:dict([y.split(\"=\") for y in x.split(\";\")])).as_matrix()), \"Splitting fields\")\n",
    "#     else:\n",
    "#         iterable_fields = enumerate(df_base.iloc[:,8].map(lambda x:dict([y.split(\"=\") for y in x.split(\";\")])).as_matrix())\n",
    "#     df_fields = pd.DataFrame(OrderedDict([(i,pd.Series(v)) for i,v in iterable_fields])).T\n",
    "#     df_gff3 = pd.concat([df_base.iloc[:,:7], df_fields], axis=1)\n",
    "    \n",
    "#      # Contains identifier\n",
    "#     if \"ID\" in df_gff3.columns:\n",
    "#         df_gff3[\"seq_id\"] = np.nan\n",
    "#         mask_notnull = df_gff3[\"ID\"].notnull()\n",
    "#         df_gff3[\"seq_id\"][mask_notnull] = df_gff3[\"ID\"][mask_notnull].map(lambda id:id.split(\":\")[1])\n",
    "#     return df_gff3"
   ]
  },
  {
   "cell_type": "code",
   "execution_count": 9,
   "metadata": {},
   "outputs": [
    {
     "ename": "SyntaxError",
     "evalue": "invalid syntax (<ipython-input-9-ac0b9cdf8458>, line 2)",
     "output_type": "error",
     "traceback": [
      "\u001b[0;36m  File \u001b[0;32m\"<ipython-input-9-ac0b9cdf8458>\"\u001b[0;36m, line \u001b[0;32m2\u001b[0m\n\u001b[0;31m    gene_id \"ENSMUSG00000102628\"\u001b[0m\n\u001b[0m            ^\u001b[0m\n\u001b[0;31mSyntaxError\u001b[0m\u001b[0;31m:\u001b[0m invalid syntax\n"
     ]
    }
   ],
   "source": [
    "import re\n",
    "gene_id \"ENSMUSG00000102628\""
   ]
  },
  {
   "cell_type": "code",
   "execution_count": 7,
   "metadata": {},
   "outputs": [],
   "source": [
    "# # Read Fasta File\n",
    "# def read_fasta(path:str, description:bool=True, case=\"upper\", func_header=None, into=pd.Series, compression=\"infer\", name=None, verbose=True):\n",
    "#     \"\"\"\n",
    "#     Reads in a single fasta file or a directory of fasta files into a dictionary.\n",
    "#     \"\"\"\n",
    "#     # Get path\n",
    "#     path = format_path(path)\n",
    "    \n",
    "#     # Assign pathname as name if there isn't one\n",
    "#     if name is None:\n",
    "#         name = path\n",
    "\n",
    "#     # Open file object\n",
    "#     f = get_file_object(path, mode=\"read\", compression=compression, safe_mode=False, verbose=False)\n",
    "    \n",
    "#     # Read in fasta\n",
    "#     d_id_seq = OrderedDict()\n",
    "\n",
    "#     if verbose:\n",
    "#         seq_records = tqdm(SeqIO.FastaIO.SimpleFastaParser(f), f\"Reading sequence file: {path}\")\n",
    "#     else:\n",
    "#         seq_records = SeqIO.FastaIO.SimpleFastaParser(f)\n",
    "\n",
    "#     # Verbose but faster\n",
    "#     if case == \"lower\":\n",
    "#         for header, seq in seq_records:\n",
    "#             seq = seq.lower()\n",
    "#             if not description:\n",
    "#                 header = header.split(\" \")[0]\n",
    "#             d_id_seq[header] = seq\n",
    "#     if case == \"upper\":\n",
    "#         for header, seq in seq_records:\n",
    "#             seq = seq.upper()\n",
    "#             if not description:\n",
    "#                 header = header.split(\" \")[0]\n",
    "#             d_id_seq[header] = seq\n",
    "#     if case is None:\n",
    "#         for header, seq in seq_records:\n",
    "#             if not description:\n",
    "#                 header = header.split(\" \")[0]\n",
    "#             d_id_seq[header] = seq\n",
    "\n",
    "#     # Close File\n",
    "#     f.close()\n",
    "\n",
    "#     # Transform header\n",
    "#     if func_header is not None:\n",
    "#         d_id_seq = OrderedDict( [(func_header(id),seq) for id, seq in d_id_seq.items()])\n",
    "#     sequences = into(d_id_seq)\n",
    "#     if hasattr(sequences, \"name\"):\n",
    "#         sequences.name = name\n",
    "#     return sequences"
   ]
  },
  {
   "cell_type": "code",
   "execution_count": 8,
   "metadata": {},
   "outputs": [],
   "source": [
    "# for ext in [\"\",\".gz\", \".bz2\", \".zip\"]:\n",
    "#     print(ext)\n",
    "#     %timeit read_fasta(f\"./cds.fa{ext}\", verbose=False)\n",
    "    "
   ]
  },
  {
   "cell_type": "code",
   "execution_count": 9,
   "metadata": {},
   "outputs": [],
   "source": [
    "# df_gff3exons = read_gff3(\"/Users/jespinoz/Homo_sapiens.GRCh37.87.chromosome.Y.gff3.gz\", record_type=\"exon\")\n",
    "# df_gff3genes = read_gff3(\"/Users/jespinoz/Homo_sapiens.GRCh37.87.chromosome.Y.gff3.gz\", record_type=\"gene\")"
   ]
  },
  {
   "cell_type": "code",
   "execution_count": 10,
   "metadata": {},
   "outputs": [],
   "source": [
    "# ??infer_compression"
   ]
  },
  {
   "cell_type": "code",
   "execution_count": 27,
   "metadata": {},
   "outputs": [
    {
     "data": {
      "text/plain": [
       "'GCATCTCTGGGAAAGGACCTGGGGCTGGTGAGGGGCCCGGAGGAGCCTTTGCCCGCGTGTCAGACTCCATCCCTCCTCTGCCGCCACCGCAGCAGCCACAGGCAGAGGAGGACGAGGACGACTGGGAATCGTAGGGGGCTCCATGACACCTTCCCCCCCAGACCCAGACTTGGGCCGTTGCTCTGACATGGACACAGCCAGGACAAGCTGCTCAGACCTACTTCCTTGGGAGGGGGTGACGGAACCAGCACTGTGTGGAGACCAGCTTCAAGGAGCGGAAGGCTGGCTTGAGGCCACACAGCTGGGGCGGGGACTTCTGTCTGCCTGTGCTCCATGGGGGGACGGCTCCACCCAGCCTGCGCCACTGTGTTCTTAAGAGGCTTCCAGAGAAAACGGCACACCAATCAATAAAGAACTGAGCAGAAACCAACAGTGTGCTTTTAATAAAGGATCTCTAGCTGTGCAGG'"
      ]
     },
     "execution_count": 27,
     "metadata": {},
     "output_type": "execute_result"
    }
   ],
   "source": [
    "\n",
    "# Forward direction is start-1:end\n",
    "# str(Se_assembly[\"1 1 dna:chromosome chromosome:GRCh37:1:1:249250621:1 REF\"][11869-1:12227])\n",
    "\n",
    "# Reverse direction is reverse_complement(start-1:end)\n",
    "# reverse_complement(str(Se_assembly[\"1 1 dna:chromosome chromosome:GRCh37:1:1:249250621:1 REF\"][14363-1:14829]))\n",
    "\n",
    "# Note for the reverse, the first exon that appears is the last in the sequence\n"
   ]
  },
  {
   "cell_type": "code",
   "execution_count": 11,
   "metadata": {},
   "outputs": [],
   "source": [
    "# df_gff"
   ]
  },
  {
   "cell_type": "code",
   "execution_count": null,
   "metadata": {},
   "outputs": [],
   "source": []
  },
  {
   "cell_type": "code",
   "execution_count": null,
   "metadata": {},
   "outputs": [],
   "source": []
  },
  {
   "cell_type": "code",
   "execution_count": 24,
   "metadata": {},
   "outputs": [
    {
     "data": {
      "text/plain": [
       "/Users/jespinoz/Documents/NMD/Mus_musculus.GRCm38.77/Mus_musculus.GRCm38.77.gtf\n",
       "0        NaN\n",
       "1        NaN\n",
       "3        NaN\n",
       "5        NaN\n",
       "4        NaN\n",
       "          ..\n",
       "621802   NaN\n",
       "621806   NaN\n",
       "621803   NaN\n",
       "621804   NaN\n",
       "621805   NaN\n",
       "Name: transcript_id, Length: 653441, dtype: float64"
      ]
     },
     "execution_count": 24,
     "metadata": {},
     "output_type": "execute_result"
    }
   ],
   "source": [
    "df_exons[\"transcript_id\"]"
   ]
  },
  {
   "cell_type": "code",
   "execution_count": 40,
   "metadata": {},
   "outputs": [
    {
     "name": "stderr",
     "output_type": "stream",
     "text": [
      "100%|██████████| 100249/100249 [00:53<00:00, 1866.22it/s]\n"
     ]
    }
   ],
   "source": [
    "fields = ['seq_record', 'pos_start', 'pos_end', 'sense', 'transcript_id',  'exon_id']\n",
    "df_data = df_exons.loc[:,fields].sort_values([\"seq_record\", \"pos_start\"], ascending=True)\n",
    "\n",
    "for id_field in ['pos_start', 'pos_end']:\n",
    "    df_exons[id_field] = df_data[id_field].astype(int)\n",
    "d_id_premrna = OrderedDict()\n",
    "not_work = list()\n",
    "for id_transcript, _df_exon in tqdm(df_data.groupby(\"transcript_id\", axis=0)):\n",
    "#     id_transcript = id_transcript[11:]\n",
    "#     print(id_transcript)\n",
    "    data = _df_exon.values\n",
    "    num_exons = data.shape[0]\n",
    "    id_reference = str(data[0][0])\n",
    "    sense = data[0][3]\n",
    "    seq_transcript_build = list()\n",
    "    if id_reference in Se_assembly:\n",
    "        seq_reference = Se_assembly[id_reference]\n",
    "        if data.shape[0] > 1:\n",
    "            for i in range(0, num_exons):\n",
    "                exon_start = data[i][1]-1 \n",
    "                exon_end = data[i][2]\n",
    "                seq_exon = seq_reference[exon_start:exon_end].upper()\n",
    "                seq_transcript_build.append(seq_exon)\n",
    "                if i < (num_exons-1):\n",
    "                    intron_start = exon_end\n",
    "                    intron_end = data[i+1][1] - 1\n",
    "                    seq_intron = seq_reference[intron_start:intron_end].lower()\n",
    "                    seq_transcript_build.append(seq_intron)\n",
    "        else:\n",
    "            pos_start = data[0][1]-1\n",
    "            pos_end = data[0][2]\n",
    "            seq_exon = seq_reference[pos_start:pos_end]\n",
    "            seq_transcript_build.append(seq_exon)\n",
    "        seq_transcript = \"\".join(seq_transcript_build)\n",
    "        if sense == \"-\":\n",
    "            seq_transcript = reverse_complement(seq_transcript)\n",
    "        d_id_premrna[id_transcript] = seq_transcript\n",
    "    else:\n",
    "        not_work.append(data)\n"
   ]
  },
  {
   "cell_type": "code",
   "execution_count": 42,
   "metadata": {},
   "outputs": [
    {
     "data": {
      "text/plain": [
       "99934"
      ]
     },
     "execution_count": 42,
     "metadata": {},
     "output_type": "execute_result"
    }
   ],
   "source": [
    "Se_premrna = pd.Series(d_id_premrna)\n",
    "# Se_assembly.index\n",
    "Se_premrna.size"
   ]
  },
  {
   "cell_type": "code",
   "execution_count": 7,
   "metadata": {},
   "outputs": [],
   "source": [
    "# Not ready\n",
    "from soothsayer.utils import is_dict_like\n",
    "# Need to group proteins, genes, and transcripts together. have exon separate. have intron w/ unique identifiers based on exons. have premrna a custom one.\n",
    "def get_regions_from_gff3(path_gff3:str, path_sequences:str, record_type=\"premrna\"):\n",
    "    \n",
    "    def _get_exons():\n",
    "        \n",
    "    def _get_introns():\n",
    "    \n",
    "    def _get_premrna():\n",
    "        \n",
    "    def _get_transcripts():\n",
    "        \n",
    "    def _get_genes():\n",
    "        \n",
    "        \n",
    "    # Get gff3\n",
    "    if is_type(path_gff3, pd.DataFrame):\n",
    "        df_gff3 = path_gff3\n",
    "    else:\n",
    "        df_gff3 = read_gff3(path, compression=compression, record_type=\"exon\", verbose=False)\n",
    "    idx_exons = df_gff3[\"exon_id\"].dropna().index\n",
    "    df_gff3 = df_gff3.loc[idx_exons,:]\n",
    "    \n",
    "    # Get sequences\n",
    "    if is_dict_like(path_sequences):\n",
    "        Se_sequences = path_sequences\n",
    "    else:\n",
    "        Se_sequences = read_fasta(path_sequences, description=False, verbose=False)\n",
    "\n",
    "    d_id_seq = OrderedDict()\n",
    "    for id_transcript, df_gff3__exon in tqdm(df_gff3.groupby(\"Parent\", axis=0)):\n",
    "        id_transcript = id_transcript[11:]\n",
    "        data = df_gff3__exon.values\n",
    "        num_exons = data.shape[0]\n",
    "        id_reference = str(data[0][0])\n",
    "        sense = data[0][3]\n",
    "        seq_reference = Se_sequences[id_reference]\n",
    "        seq_transcript_build = list()\n",
    "        if data.shape[0] > 1:\n",
    "            for i in range(0, num_exons):\n",
    "                exon_start = data[i][1]-1 \n",
    "                exon_end = data[i][2]\n",
    "                seq_exon = seq_reference[exon_start:exon_end].upper()\n",
    "                seq_transcript_build.append(seq_exon)\n",
    "                if i < (num_exons-1):\n",
    "                    intron_start = exon_end\n",
    "                    intron_end = data[i+1][1] - 1\n",
    "                    seq_intron = seq_reference[intron_start:intron_end].lower()\n",
    "                    seq_transcript_build.append(seq_intron)\n",
    "        else:\n",
    "            pos_start = data[0][1]-1\n",
    "            pos_end = data[0][2]\n",
    "            seq_exon = seq_reference[pos_start:pos_end]\n",
    "            seq_transcript_build.append(seq_exon)\n",
    "        seq_transcript = \"\".join(seq_transcript_build)\n",
    "        if sense == \"-\":\n",
    "            seq_transcript = reverse_complement(seq_transcript)\n",
    "        d_id_seq[id_transcript] = seq_transcript"
   ]
  },
  {
   "cell_type": "code",
   "execution_count": 46,
   "metadata": {},
   "outputs": [
    {
     "data": {
      "text/plain": [
       "'CACACATCCGGTTCTTCCGGGAGCTAGGGGAGCTGACGGAGAAGGCCACCGCCCAGCAGAAGACCCGTCTCCGCCGGTGTGTGGCGATTCCCGCGGTGTGTGTGAGTGAGCCCGGGCCCGGTCCCCTCTCCCGCCGCCGCCATGGGCTGCACGTTGAGCGCCGAGGACAAGGCGGCGGTGGAGCGGAGCAAGATGATCGACCGCAACTTGCGGGAGGACGGGGAGAAAGCGGCCAAAGAAGTGAAGCTGCTGCTGCTCGgtgaggggctgggggcggagctggagcgctggagccggagagcccggccccgggagcagccggagctgatcggggtctggccaaggccggcagagaggaccccaaagggacaaggaggggatgcccagcaatggggcgggtactgggcttggcgactgaggccccggaaggcgtggggatttcaggttggagagggtgtaacccggctgggatggtacttagtagagttggggagtttggagccccgagactgtgctgggaatccgggcacggctcttaaagggagggaccgaaattagggagggttcacactgggctggaacgtgttgaggaggatagtgtatggtgtctggtggggcctgtctagggtttgtgtgagtttgatacttgatgtcaggataaagctggaaggattgaatgattaaatagcgaagctagtacagagagggtcacataaagaacttgctcgcaagtctttttgtgctgttagtgaggtgggttgtccaggaacacccaggaggcggttgaaataaatgacaggttcttaggtataaaagaaaagaccttgggtgcagaggccactaatacttttttcaacttttttttaaaatctctctctctctcttttttttttttaaattctcttgagcttccgtgattccttttttaaattaaagggctagggatggtgtgagctgaggaaattgaaagaatgccatttttgaggtttggggtagaggacagtgggaccatgtgtgtcgggaatagtagaggataacatatggactggggcagatttattgtagagattgtgatctatttgggaggggttgatttttttttttaattgggtttttcaaaataaaagtatgtattggctttcagactacaaacaccgtgttgtcttatactcaagtgggcttttttatctctagtcagacatgtttcagtcaggataatttcgttttaaactttgataggcccagtaaatcatataaacttctctcgcattagcttaccagtaaatccagctgtattcattatttatatctttgaggaatctgttagatgagaatcattacgaataagtcacaggttctggaagcagcagagctttttagataaataccgtcccgaaaggtcactttagagcactaatttcactttgtagagctccagaggacggacaccactgccataatcttaggctgacttcgtgctttaagatgggctggctgcttgcttatatattttggaagctctgagcggcagcttgaatataaagaaaacgttatgcagtggagtttgagcttccaaaggataagaattcatagcatagctctggactgccagtgcctgtataataggtatctttttaaaaatatttttattaggtattttcctcatttacatttccaatgctatcccaaaagtcccccataccctccaccccactcccctacccacccactcccactttttggccctggcattcccctctacttgggcatataaagtttgcaagtccaatgggcctctctttccagtgatggccgataataggtatcttttgtggatgaacgtggtttctggtacttagcagggacttaagtatttactgttaaccaatcagtgttttttttgtttttgttttttttttttaaagacaagttcatgctgaatgttagttcctgggggcctttcagagtctggtgtaaaacacaacccttgtcagtgttctcccctagcctaattgctgttttcagacagtgtcattctgcagcctagtccggccttctgttctccatcctcctgcagctggcttcccaattgctgggattgcagcatctatcagcacaccagtgacattaacattttttgtaagaatcaaatgtgaaatcaaagatgcattctcatattctgggatttgatctatattgaccactggaaaaacttgggtaagcagaactatccaagtacctggaaaaatctttactcagggtctttagttcctttaattaaaaaaaaaaaaattaaaattaaatgcaggatagcttacagaatttgaaaagtttaagtaaaagtcaaaatactgatttgtttttaatatttactagcttttttaaaaaaggttttttgttttgagacaatattggcctcaaaattcatgagattctgtagctgagattgtaggtatgtaccacaccatgaaacttttttcccactctcaggattttttatgacggtattttgagcaaattaaaccagtaagatgaagtagttgcggaaacagctggtcttacctgagctgtgtcatgatgcatatgtgaagttaaaacgatctctcatgggactagagacatgtctaacagtcacaagcacttgctgttcttacatggggcctgcattaggttctcagtacccacacggctcacaaccatctgtacataaacgtacatgcagattgaacatccagacacataaaattaataattctaaaaatgatatttcatgatatttctttaagtagaatttacctatgtggtatataaaaaccctatatgatattccagttctcccattcttccccttttttggctgcagagagttttccttggtacatgtaagccatcttccttcagcactatgacactatccaatttagtttacatcgaaatctacctctcttgtctctgctggttcgtgtcttttctttcttatgtggctgtaatttcatgtgatatgcagcatgggcttcgaagtcagaaggcttcaaattctcattcgtgtttactagctgcaacttaggacagtcattcccatttgcctcagtttctctgaggtatagaaagtagagcgccttcagaatggctgggagggttaaatgtggtaataatataaagcagaacatatccagtgaatagtcactgattattattggtaaaagtcagcattatggattaaaatggccatagacattcgaatgaataaggtagtataggcttaatttctaaggaagacttcagtattataattcctcccttggttggaatttcctctagatattattgggaagatcttcttgtgtcaaattgctgtttaacagtttgctactgtgtcataaatatccctaactagtatgtatagggtgatatgtaggtgtgctacttggaattgtatgttcaaatttcaagtcttgttttgagacaggggcttattgtgtatgtagctcagttaacctgtagctctcaacctgcctcagccttccagcatatatgatcataagcgtgcggcaccatacctaggtctgaaatggttgcatagcttcagacttaacagcccctgaagtagtatttggacagttttggtgtgattggtgtgattttctctgcaaactttttcagtttgataatttgaagagaacgattatttacaaggattataccagttgaatgtttaataacctgtaatattttattttattttatttggtttttcgagacagggtttctctgtatagtcctggctgtcttggagctcactttgtagatcaggctgggcttagaactcagaaatccgcctgcctctgactcccaagtgctgggattaaaggcgtgcaccaccacgcccaccttacatttcattttcatggcataatcttgtaaagaaaaatttcttctactaaaatcctctccaatatgtgttatgatgtcacagatgttgggaggtgctagtgtaatctataataacactgcttttggattcagacaaaaccacattacattcccacctccacctactggttgtgaaaaccagaccaagtcacttagccatatggattatattcacatatgtaagtagggagattcttcctgtttcataatataaggtgacataacttatgtagaatgcttagggtagtgtctagaagataacaatcagtaaatggcaacctgtctgtcagagtgtttgtgaggcatatcattttagtttctatttttgaggggtgtttcagacacctgacattattcatgttaatatgcaaagatctttagtgattaattctgtgctgataatttgtgttttatggcaaaacctaagttctatacaaagaattggaatattgcattttaattttatattatacaattggttattcatatttaacttgtaagttactagtggaatgtggttaatgaaaataagcgtctcctttgatccctatgcagggtggtagttgtggtttttgctacctctttaggataaggtttgtaggacctaaatttctagtaagaatttatctgtcatacttggagaaaagaaagaaactggaataacaagtaggaataaacattgaaaataaaagattctttttaataaccttatttttttataccttaaaaacattttttagaagccaggtggtgatagtgcatacttttcatctcaaaaattcaagaagcagaggccagtggatctctgtgagtctgaggtcagcctggcctgtaggatgagtcctaggacagccagggctacacagaggaaccctgtgttgaaaaagaacaaataaataaataacaaaaatgtttagattcatatttttatgtgcaagtgttttatctgcaaatttgtaggtgaactgcatgtgggccttatgcccacagaggtcagaagagggtttcggactccctggaattggaggtaaggatgggtataaaccacgtgtgggtgctgagtcctctgcaagagcacagatgctctgaactgctgagccgttagccagcccctctctgagccttttatgtgagtgtgttcatcacttttgcaacatgaaaatatctcatctttccatatcctgccatgactttctctgttgcagttgtagacaatgataaataggaagtgggtgcccagtgctttgaagatttacaaggcacctgacttctgaatcaaggatacatctttaatttcagctgattacacttggaccgttataaaatggtctttagtttggggacagtggtttctgttgagaatgttttttgatgtcgagatcagtttcagagattagtgaaactgatgttctgttcttactggtattctgaacctcgttttgaaacctcgtcctgtttttatgtcacccttactgaatacacacacacacacacacacacacacacacacacccctcttgcttctaactgtatggatggtcctttaggactagggctttctctatatcttctgttgtaggacatcatctacgggtccataaggaacaggaaatggtcacactggtgcaagtaaaggagaggtttatagacaatgtgctaacgaagcagcttcccaggcagttggcatccaaggctaggcaagcagtgaactgtgagcaggttgcatgctcgtgaattgcagtgccctcctcactcctagagcagcagatcactagcaaagctaagtcacatcttcatatcatctttctatgctccttgtaatactccttgtttcccaccacacaccagccttcaactttggcttaccttgcacattttctggctcacatactaacatacctggtacttaagtcttgttatccagattcctggaaaagcatcaggttggtctaaccttgccaggtacctaccataatccagttgtttgtggtgggtgtgtgataagttgatggcgtatcccaagttctataaggcggaccctttcaagtgtcaaggtatgccaggttctctagtaaaaaggcctggctggagaaatagtgactaaggaccgacagtgtccttacctactagacattcctgtcatctgagttgggcgtagtgggatgaggtggaaacactggagaaccaagcacatcaccgcttcagtttctccctcacttgagtctgatcattctcagtgttaagctgtcattttgtgtagttggcagataggtgtaaattcacctggaggtggcgtgtccaggtctcagcacatctaacacagaacagtcaatgtcaccagggcttaattacctttcatttaaattaaacagaaaaaacaaacaacctgcttttttccccccctggggctgtactccatcactcctgatttctgtctaccttttaacaaaaagtactcagggtggggccacccaaaactaaggaaagagctacaacagactcgtttattacttaaactttgcttacaggatttgttaagggggaagtaaaaacatttggtaatgtaaatttaagtgtatagataagttagcgttctgtgttgtccttttctgtctcgtttgggatagttttttttctcaagtctagcttcaagggaagtgagagagatgcttcaaatactcaggagttaatgtactaatagaaaagaccaatttaagatggggtctcacactgtgaactgtctagagccatgggcactaaatttgccctgattatgaattttaaaatgttttctagtcagcagaatttaatacacgagtatcttagatctctcagaactggtaactcaggtcagacctagagacaccatatcataaagaggtggagcctgaggagggagagtggctctactctctaagcatcagtctccctccttggaactgtgaggcatttgaactgggtcttgggagtcccttgattgtaaattgtatatataatctaacaagttataaagaggactgttttgtgttatttttcttagtttggttgaaattagttgaacatcatggggctttatttaacaactaaagatatgcatcataaacacctatggtgcaaaggttcactggggcacagagaaaataaagttatttcagtgtttgattttctgtgtggtcttcgttttagaatagctcttttgtaggctctcgaaagttggtgttatctttaagcttttatctacccaggttatcctgttacctgattagtgatcagcaatatcgttgctgtaatttaaactgtttgaactgaataacactgctgggaacagggttcagttgttctagttggacatagtgcgccttgtgactggatcttcttttgtcctttggctgtagcagaaattaatatacttgatgtgaactaagcaaaggagggggacacttgaaagtccacagttggatgtacatgaaccttggttagagcttagaaactttaggaggaactgggttttagacctgaacttcctttgacttccacattgaacataaggttaaaaaagcttgtaggaattacttgagatagtttcatgttttcgatattgatacatcactatgaacattttattactaagtcctattttcaagtggacagttttaatattcatataaaagatttttgaaggaaggtagtattttacatcttagaaaataattgttaacttaaaagcagttctctggtgaacactgtagtcccatctcaacacttgggaggcaccgggaggtagatctcttgagttcaaggccagcttggtcttgtgaattcttggtcagccaagattacaaagaaaagccctgtctcagagggagggggaggcgtgtagctttctgactacccctttctttttgactggttgacttattttgtgtggggtatgagtgtgggtgtggatgggtgtgcacaccacagcacacatgtggcagtcttgtgggagttggttttctccttctccactgtgggtgccagagctggaactcagatcatccggcttggcagcaagagcctgagccatctcttgggcccttgacattattttcctacatacgcgtatgaatcctccatgttttgctacaagtctatttgcatgtttagctgtgctcacatcttttattcatctggtttgttgttaacactacactggccgtgcatagggagcatttaaatcgtgacgatttaaattagcaaggtagcttgattgctgtcaccttgtaattaatcatcctctagcggttgtgtaggctgtttacagtgggccaaataacaactacaaaataatctgtttttcagtttgattttaaaatttaaatagtatcctcctaaatctagggaaccgtggcggtgctaccctgtgctgcactttgatttgtttcagtcgtgtgctggtgtcaggggcagtgtgtggcccttacatgtgctaaggtgcacatgtgatgaactgcttcaggagccgaggcttgctttctaccatggttgaaacaagagctgctgtcctgccattgtgctacacattccaggcttgttggcctgcaggcttccaattattctccttataggaatgcaggagtaagatgcatgtctgatggaacatccagcttttgtgcggattcgagatctgaactaaggtcatcagaattttatagcaaaggcttttattaagccatgtcttcaactttcccagtttgtttgtttgtttgtttccccttttctttctccctctttctctgacccagctcactccaacctatagggtttttctttgtttgtttctcattatggatggttgtgagccaccatgtggttgctgggatttgaactcatgacctctggaagagcagtcagctctcttaatcgctgagccatctcaccagctcgtatatttatttttaaaaacaagtgagtatattatatgactaggcttaccaatatgactttggaatcattagattaagagtatttaaaaatcactggcaaaaaggagggcatggtggcatatgcctataaccccagcactctggaggcaaaggcaggcagatctctgggagttccagacctaggcctggtctacacatagtaagttctaggacagccagagccacataacagagttgtctcaaaataattagaacaataataagtgagacagcaaaattcttctctgtttaaagggtatttatgacgttggactggggagatggcttagcagttaagagcttctcttccagaggacctaggtttgattcccagcacccacatggcagctaataacatctgtagctacagttcagggaatctgacgccttcttgtgaattctctgagtactagacagacacactacagtacacagatgtgcaatcagacaaacgtgcatatgcatagaataagtaaatgaaaaaatttaggataaaatattttaataagctttttattttggattaacttgactcttctgctagttttctaaagaatgttacatttgtcatctcaagaaattaatgctgctatataaatgttcatttaacttttaaattttatcagtttttccattaaggttctttttagtgtctaggatcaatctaggatgctgcgttgtatttaattaaggttttatgagctttctggtttccaatattgtactctagcagtatgctcatgtattatttatgcatttctgactgtctttcatagacaaaggttttctccttcccccttacaccttagaatttttgagacagtttatatagccagggtggccttgaacttgtggtcctcctgctcagcttcccagtggccacttatgtggaatgtgattgatgataggaatcagttttgaaaggaacatatcacttgagacaaagaaatggaaactccttttgatgaggtttgtggttctggagatggaatgcatactggggaaggtttctaccattgagctgcctgccagctctgagaagtgttcacagaggctcagagcacgacagcagggagatctgactggacaattggtgtaggaaaggattcaggagatgatcttcctggctttgcctttgcagtgctgggatcacagctgtgtaccaccacatcttgctttatttgaaacatttttaagatttattttttcaatattgagcatatgtgtgtccattgggcattgcacccacgtgcaggccgttgcaggtgttctccactgcctgacatggatggtgagaaccaaactctcacctgcaagagcggcaagtgctctgtaatgctggaccatctatctctccaacccgtatttgagacattagaaacatttcaaatttattatagtgttggcgtgagtaacggagaatttgaatgcaggtggcatagtgcacctgtggaggagagggcaacttcaggagttggttctcctcttacctgggttccacagatcacgctcagaccatcgggtgtgtacagtaggtgttctttacctcctgagctatcttgctggtcctttattgaaaattttagtagctatcttaagctatactttattatactcacaagtgtgcatgtttctagattctagagacttgcattgttaccaactttttttctggagaagccaccacgattagtactgttgcaaaaaattaaatagagttgtgaatgcatgtagggaacccagattcctttgagttttgctgagcatttaaaggaaattgagatcaagtactggtattttgtaggcccttactcatgtttcaatgttcactgtaaatgacgctaaagcgtgctgtttacatttgattaaataagcatgcagacctgctctgtgctgccatcatttgaagatttgagttgggatatgattttaacattttaaaatatatgggttataatggatgcatttagcattgctattagctttgaagaacatttcccactataataaagaattattttatgaattaaaatgagacctttcgactgctgacattacagttgttggtggcatttctgttttctttttattccaaatgaaaaatagttttaagccacggcataaataccatataatttagcatcaaaatggggttttgttgctttgctttcaaagaaaaaggaaacttactcaccataggccaaaattagaactcggaggcagtcagagcacagtctggttcctggctcacgagtgactgctcccaagggttcttatgctctgcagaggcgaggaatgaagctgcagtctgcagtcgctgcgcatcagcggcattctgctcacgcatagtcaacgggataccgtgtggtaatctctggggagctgagggagcttccctttttttttttttcctgattttttttgagacagggtttttctgtggtttggctgtccagaagcgtactctgtataccaggctgaccttgaactcagagatctgctgcctgccttggcacaataattcggcacccccccacctttttttttttttttttggtaaccaaaccagtgtcttccttcggtgatttattggtgtaagctgattgatctttctgttttttaaaaaaatctattttttgtctgtgtggatttgtgtgtatcccaggctagtcttgagttttctatgtagctgaagatgaccttgagctcctgatccttgacctatcaatcaagcataaatgtgtgtagccatactcagtttatacagtaccagtgattgaactcaagactttgcctgctaggcaagcactaactaactcagcttctccccagtcccgtttattgtatttacttattgtttggccaagcccttgcatgtgctaggcaagtgctttaccagatgagctttgagtagtgttctgttttatgggttttgtaaaccacacacacacatacaaatttgagaatatctgcttatcactaaatccccttctgagaattcccactttttcgtgagcagtagcctacatttgcatatacatgtatatacgcctgcacaaatacacacatatgcagtgtgaaagcaggactcacatatgaaatatataaatatatacgtctagactccaagtatgagagaaaatgttttctatgctgttttctttcctctcttgctatcttgtctcccctcccctcttcagacccttttctcatggtccctttctcgtttcatgtcaatatacatacatacatacatacatacatacatacatacgtgtgtgtgtgtgtgtgtgtgtgtgtgtgtgtgtgtgtgtgtaaagctagagttttcttatgaccgaaaacgtttgcccttccaagtcagacttactgcattcaacatggtgatccctagttccattcattttcttgcttattttcatattctttatggctgaataaaactccattgtgtatttctacacaatttatacagttttctttatccagtcatctattgaagggcattctgctggttctgtggatggtaaacactgatacataggtgtttctgtgacgtgctgacttaagtccctttggttatgtacacaagagtggtgtggctggaccgtggtccttctattcttagttgtttgagaagctgccacgctgatttccatagtagtcatgccagtttacattctcacctgcattctagaagggttcctccttcccacatccttactagctttttgtcgttgtttgtttcttgatgatagccattctgactttagtgagctgggaatctcaatgtagtatcaatttgcatgttcgtgatggctaaagagacacttttttatatatatttattgactattttgtatttctctttttgagaactgcttgttcaattaatttccatgtttatttgcatattcacaaatcagttttagggcttttaattttgtgagttctttaaagattgtacatattatcctgttaggtatacagggggccaatattctcccattttcatttttacacccctgagctattggacttctgaagtctgtgtgtcagtgcgttgaagcactgtctttacgcttttgtatggctgtctggacgattcaggtcttacattaaggctttgactcatttctaactggtttttatcaaggatgagagggtgggatgtacttgcagttttctaactgtgaatgtccagttttctaagcatttgttggaaaggctgtcttttccaatatgtacttttgagactttgttcaaaaattggatgcccaataatgttttattaaaaactttctcacaataccctttaagcctttttggtgattggtcactttttcaaaaagcagacgcccatgttctctgccttaattacaaattcactgccttgttttacacttgcttattcatccactggacagatacttgtgactgctcactgtttcacatcctcatgtgctgcaatggatggacagaagattgatagcagtttattcattagaacacaatagctgtgtgccagaagagccaggagagagggttagaggaagtgaggcaagcactgagtccaaacttcctgtcatgtggtcctaggctgagagctgagagctgagagcagagtcaggagtgggtgtccacccaagtaaagatagcaggggagtgggcatttctctcttaactgcccacactgaaattccagccattgcaagtagcatttacaaaatgggattgggcaactgctgaatatcatagccgcttaagtcactcacccacagctaattgctaagtgcctcctctgccctagactgtgctctggggttggaggagtgggccacagagagaaggcactgtttgtacttcccaggactttatgtctgagtttagggctggtacagttccgaacaatcacaaactcaaacacttagaagaatttgaccaagcactagtgttcagtgtttaactgtcttatagggccaggctaaacctgagtaggatgattttaagagagaagtatacaagcatggaaggttttcaggatacactgaaaagggctttgtaactatgctaatcaaaccaagaaaaccagttaacagattatggcaaaccagatgaggaccgaggaaggtagtcactcactcacacatgtgctttagagcagcaggccaggccagagctgctgacaagagtggtgagaggagcaatctgagctcatttcagacattagctgacagggaggagcctttcctggtcaccagacagtgagtgctgtgcctgggagaaaccaagaaggactcagtgaggactaaagagtgccttcagtagggttggggtgttcatacacacagaggcttagcttgcttagagggcaagtaggctgggtgaagaactatttctatgctttagaccaaggaaactttctaatttcacaagaaaactctttcctctcctggctccttcctgagctgaactgattgtgacgcctcagtgtccaggaggtccaggcatgcaggatgacacatttattacatggacatgaagaacaagttttgcttgtgcagagacatttttccttctgtaattcatccgatcttttgcttatttctttcttagcttgtagttagtttattttatgtgtgtggatgttttgcctgcgtaggtgtaccatgttcatacaaagcccaaaggccagaagagggtgtcagatcctctgggattggattatgtgggtgctgctagttgaacctgggttctctggaagagcagcctgtgctcttaagcattgagccatctctccaagcccagtttttagtcacatattaactaatgtgtgtgcgtgcactccagtgctcatatagaagtagctggcgatctctccatcacgtgggtcctggagattgagctgaggatgcagctttgtggtcagtgcctttactcgctgagccatcctctaactctcttctgagaaaagattattttaagtgtgtgtctttgaggctatgtagatgtacaggcacctttggaggccagaagtggacattggatcccttggaactggagttacagatgcctatgatcccctcgataaaggtgttgggaaccaaatatgggctctctccggggcagcaagtgctcataaccactgagcagtctttccagccccgtcttctaacctttggataagttaggaagctattccagcacttgagcccctgagataggaggataatcaattgaagtctgagctatatcctgtctgagagagagagagagagagagagagagagagagagagagagagagagagagagagaatgagaatgaatgaaaccaccaactggattttgtaataagtatagtgtgtagaaaaacattttatgtgaaatgttttcaactcgatctaaatttttacttttagctacatgttactgaaaaagaaatcatgaggtgaggttggggagtggagggtgggtggcctgagagattacttgctcatgtttcaagacaggatttctctgtgtagacttggctgtcctggaactcactctgtagaccagggtgtcctagaacttgcagagatccacctgctgggattaaaggggtgcaccccatcccccagctctctttactgcttcttatagagggccagagtctgcttctcgcactcatgttaagtgactcacagccaccggtaaccatagctctaaggggccttacaggcacctatgtgcatgtacatgtaacaaaccccggacaaatgtatagtcacatgcataaattttaaacaaatgaatcacagggccaacaggatggtgcttgttgccaacctgataacctgagtttgatttccaggaccctcatagtgagagaatctatggaagccataggtatccctattggaagcagcatgggttatgttcttttgatctttagttatcgggatttgtaattcacctctctacttccatctcctttctgtgctgccaccgtcccccattccatcctaacagtagcaatgtaaacctgaatgttctagtagatagggtacttccaacaaggaatggaggagttggcatgccagacacacaaagctaaccaacattggtgccttccactgtcctgaccatagacctgtattacggtagctattttgaattgtttagttgttaggatgatgtggatttgtggtttcattagagtcctgtattagaataagaagttagttggcttcgtgtgtaacggtagagcatatctaagccaaagctcttggtgttttatagataaggaggccatagttatagtcaggtgacttacccaaggtcatatagcatgtcatagcagcactgacatttactgtaacgttgagtttattacaggatggttttaacagctggaaaattaagctaaagaaatcaaatttatttgttggtcaaactttcattttggtgtttggggcaggggactgtctttgctcatatatgtaccaataggtctgtaaagagagccctggtctggtattgctaggttattcgtggtgtcattttaggactcagctgcacaggagttactagaaatgtcaagatatctctatagaagcaagtaattaagaggaaagggggtctctggtgcctctggaatgtctgcctacctgggatagacctgtggggacacttggaggggaagctctgaagccaggatgggtgacaacagtgtgagagcagagatagcaggaggggcctcagatacaccaggagagaggtttttgttccttagggtagggtggagagaatgactaatggacgcactgacgccgtttgctgcagttttaggtttacaagtgtctttttgttttgttttgttttgttttgttttaaatgtgtgtgaatccagatccatctagagttttattgctttgaaacaacttctgaaaacaattgccattgcaccaacgttgatatcaaaatggttttaggaaataaaatcctttgaagccctaacatcactgggtagtgttctcagcagtgaggatatcttgacactcagtagctgggtaacagtcactaagcattactgcagactggggactgtccaaaacatactctactgaccctgttttatattgtggaaatccatcttgcttcatggcatacaagtagaaaaaaagcatagtaaacttaagacctcctttggactgactttagttagaggaaaggaaaaagagaaagcaggtggtgaccttgccaacctttcccccttacggcctcccctccccaggcttgccatccttacagtctgcaggctcatcttcagttcctcctactccgagccgcgttccctccgctgtaggctctagctgttccagttcttatagcctattatccttggtagattgaagataagcaaggaaatgttccttttaacttactgctttttgaagtaatgtaggaaaaaaagatgtaggtgaagttaggaagttcagaatccaactatgtagttggagagaaagggagggcaaaccctaagagccacgtgttctgggagagagctgctgcttgagtgatagatctcagaggtaagattggagcccagacctcacggggaaagaggtggagaaggcttgaagactttgagtcataagctgatggtttgtacagtggtgctttttggaagtggtaaaggagcaggagccttggagtggtagtttaagaaaattacagcagtaacataaaaggagcagtgtaggctcagccagatgtgggaaggggtgaagaggttacgtaatttgagaaatatttgaggagagagaaaactatgttccagcttggtcagtttaccatgcttgctagttttatgcctgcttcacacaagctggagtcattgggaaaagggactctcaattaagaaaaaaacctccataagatccagctgtaggcaagcctgcaggacattttcttaattagtggtcatggggatgctgtggattttcccacccctgggctggtggtcctgggttctattagaaagcaggatgagcaagccagtaaaccatatcctccaggcctctgtctgcatcagctcctgcctccaggtttctgccctgtttgaattcctgtcccatcattcctcagtgatggagtgtgaccgagagttgtaagatgaaataaagcccttccttcttaggttgattttagtcatgatgttttatcacaactaagatatctagaataatgaatggatttcaaatccaaatgactcttagatctcagaatgtacttggaagatgggtaaaatggtggtggcacttttcatgagagtctgaaaattgaatgggccaaggcctttgatataaaatgtgattcactttttatctataacacacgctgaaaacaaatcctgtggcaataagaggtgccttcctttatgagatggactgagtgcctaataaaggctaggggtgaagtacagagtaatagaaaagggagggcagccgggcgtggtggcgcataccattagtcccagcacaggcagaggcaggcgaatttctgagttcgaggacagccagggctctacagagaaaccctgtctcgaaaaaacaaaaacaaaacaaaaaaaaaaaaaaaaaagaaagaaagaaaaagaaaagaaaagagaagagaaaagaaaagggagggcagacagacattttctttttcttctttttacaaaatagagggtggaaccagggccttgcacaggctaggcaagtgttctaccactgagctgtattcccagctcccagaatgatattatttagggaatctttgagaaatataagagagatagaatagaatagaggtagggtgtgtgtgtgtgtgtgtgtgtgtgtgagtgatatgaaatgttttcaaagagtagaattaaatgagatgggtagaaatttgtgacttaagagatttatttataatttttaaaaaacagtctgacatgagcagtaggaataccattttcaatatttaaaggagagcatccagtacttcattacactgttgctcatatagaatggtttgggaattttgaatttaacaatttaaaaaaaagtcagcattcatttgttttcttcccctaaattaaaatgcttttctaggtatgagtaatgaaattaatatttttgacagtcttagaagaccctgagctacttgaacattaactgtgtagtctgcccagttaccaactctgcagtaagaacagagataaagatatagatacacttcttgattctgcaagaatgtagttatcttcaatttttatattcagatgttactttaactagtttttgttgataaagttgagaaatatttagtgtgttatcatgcttattaaatgcacgtgtgttcagtagctatatgattaattatttgactaagtgatgttgggtccagttgaggactccaggaatacagagaagaacagcttggtagagcttttgtttcagtgaagagacagaaagtgagtgagtgccgtgaagatttgtgctgtaagagagtgaacagtgtagggtgggaagtgctcaggtaacttcatcagggatgctctgagaggcagaaaggtgagtgaagaagaaaaccttcttagcagacgttatttcagtcagccagcatgagactgtgagtcagagtccagcccagcaagaaccagttttgcacgttagaggaaacagaaaaaagctggtctgacaagaacactgaggctagggtagagaccagcaagaaatgaggctgaggaggtaggcagggaccagagtgtattggacattattagccacacattataatttgggtgtaaatggaggccaggtggaaactccagtcagtgttgtaacatggtctaggcaggcgtgttgtacaggtgtgattctagctattggcctattgggtagcagaaagaagaggatccttataagttcaaggccagcctagtgtacatagacttctcagacttctaagattacatagctagactctatctaaaaaaagaattatggagccgggcgtggtggcacatgcctttaatcccagcactcgggaggcagaggcaggcagatttctgagttcgaggccagcctggtctacaaagtgagttccaggacagccagggctatacagagaaaccctgtctcgaaaaaccaaaaaaaaaaaaaaaaaaaaaaagaattatgtaagttttgcgtgtattaggtaaactgtggtttccagtgtacaaggaccaagctgttaagattatatctgtatttttaaaactaaactttactagtctttaacatgtattaatgctggcgtccccattccatctctttctccctcttatgtcacttgctagttttgaccttaggaggttaggtaaatgttagtcccatttactgagatgagagactgagggaagagcaggtttgtttgaggtggaagtgggaatgagaacccatcattcattgtgttgggcattaagtttgtggtgcttctgggacatctgctgtgctacagacggtaggaaatgagtttgaagtcagccctggaaagcaaggttggtgagctaagttttggaatctagtacatgccagctttgaagtgaaagagtggaaatttcaattttgccactgctgtataactggacaaattacttgacctttttgcttgatttatctcattataaaatgagggtaatggggcccaccttacagaggtgtgagggttgaatgagttcatattaccaagatacctagaatgccctgctactcgttactcattgctctttaacgtttactcatgaatagtgccttaaagcatcaagttaggcaagttagaaaaaagcatagggtctggagaggtggctcagtggttaactgagttgtgcttccagagatcctgagttcaattcccagcaaccacttggtggctcataaccgtctgtaatggattctgatgcccttttctgtcatgcatacattcagggagacagagcactcatatatataaataaataaacttacataagtataggtagagaaaaagacaaagatcaactttgaaaaaagctgtcttgaaaggcaggggaaggcctagaaataaccactgagctgtttagaaatggtttcagtgagtggtggcgatgagctggaggttcttaattagagattgtaaggatggatgacaggctagggaaattttgccataaaggaacacagagaggggcagcaaagatagctcagtaggtagagttgcttgctttttagtctgaaacctcagttgatccctgggaccttcatgtggaaggagaaaaccaactcctgtaagttgccctctgacctccacacctgttcatgtgagttgtcactcttcccccaaccccataaacacaatagatcttctaaaaagggaggcacagggaaggtggaatagcagatagaagaaagtgaatgtgtaaggggatgtcaaagaatggtactggtgagttgtgtaaagatggtaaaacaacagcctgtgtgctaagacatcccagtaagaagaaaaaatagtgatactttggtgacactagaaattgcaacagctacaagtcgagctgcaatgaagttaagtatatagtcagagcgataagggcattgagacattgatgacatagagaatgttaatggagatacatacaggtagactagtagatttggttatgagaagtggagtagtgctctctgattgccttccactttctctaaaaaggaggagcaggactgtcatttatgagtcagaagtagcatttgatgctggggagagtggtaatgttacaagaggcattttggaaaatggaagaattactaatcaggaaagacctagcaggcagactatcaagatctgaaagtttatttgacctttgatctttagtttaagagtgatttcagtcatcaaaggaggctgtgtaaatcctcccccctccccctagaagagctgactcatgaaaggtaaaggcaacgtgagttctgctgatacttggaacttctctagctctgtgactaggagggttgcttatggaatattcttcaggtccatggcaggttacagaattactaactatgagtaggccataggcctatttgttgcctgtgttccttgagtatatcatgttttatgatgttactaaaaatatttgtgttgctatccttgagtaatgtctgttttgcacaaatggtatcaacattaaacaacagcaaaatgctctaattgaaaaccagttttcctaatagacatgaaagctcaccaaaattcccatttggatctatatcccctaagctagacttcctagttgcattacttactccatatctgtttgattacaaagaaattcaaaatctgtttttttgttttgttttgttttttttttagGCGCTGGAGAATCTGGTAAAAGTACCATCGTGAAACAGATGAAgtaagttcacacagggccttttaagactgaatttccttctcttcataaaaagtttataatgctttcattttccattcatggtattgacttgcggttttctcctttttgaagAATCATTCATGAGGACGGCTATTCAGAGGACGAATGTAAACAGTATAAAGTAGTTGTCTACAGCAATACTATTCAGTCCATCATTGCAATCATACGAGCCATGGGACGGTTGAAGATTGATTTTGGGGAATCTGCCAGAGCAgtaagtatttctcatttcctcttcacttgctgctcttcagtaggcacagttaagccaaatttgtgtcatgttttagggaacaagaagataaaatggtacaaaataccgtgtgtctgtttttgaagtgttaggtctgactcaggagacagtaagttaccgacgcatgcagagtcctggaaatgggattctgtagctgggctgtgtgatggctgtgttcagttgcttcctttgccacaccattgacatatattttatagtagttgatgatgctaaatgttactctaaaagacaggatgtatatgttgtatatttagtcttgctttcagagctgtagggggtcaaagggaaaaaaattccccaaataaattctgtaaggacataaacactagcatcccaattttagaggtgattttgggtgttcaaaaatatcttatcactgtctttcattgaattcagggttcaattagaattgggttgttacttattctaatataactctttaatgctttatatatatcagaattcaaaagtcagttaataatatttagtacactttgggcagtttgtgaagtaggatgtttgaagccagtggagaaaggaccaaatgaagacaggagatcttcttatgttgttaccaactcaatttcaagaacatgctagagaagtatagagtccatcaaaggatgtcagccatgttccgtggtgcagttcttaagtgccctgggaaataaatggaagtggagggggttgggatggagagggctttgcctggaaagacaaaacctgtgtgcttgtgagcagcctagggacggctatgagctgctcagtttatcagctgcaagttagggttgataagtgggaagtgaaaaggaaaatattcagagagctgctgtggctttgacttgttgagtagaatatatcttggaggtgaaataagagatcaggaactagttaagggttgtgggagaaaagaatagtaagaaaagaagactaggaagatatgtgagcgacttttactgtcttgtaacagagttcagggcctcttcttcctcctgggaatggtactcggcctcagctgtgcagggtgagtccgtggacaacatttagcccgcaggctgtttcctgcccctttttttctttttctcttttttaaattttgtttttaattatgtgtatgtgtgtgtccacatgtgcatattgcatgtgtgtggatccccttgaaggccagaggagtttgattttccagagctggaattacagggagtttgacactacttcgtgtgggtgctgaaaaatcaaactctgtcctctgaaagagcggaacgtgctcttgactgagccattgcctcataccccgtttctgatgtttagagactgtcttacctggagtccaggctggacttggattcatggtagtcttgccgcacaggctagtttttttttccttagggaaatttgttagttcaagtaaaatctaatttttagtcaaatcttagcttcttcccatttgagtcatgctgacttcttctttttcttcttttatttttaaagatttatttatttattatatgtaagtacattatagctgtcttcagacactccagaagtgtcttacggatggttgtgagccaccatgtgattgctgggatttgaactctggaccttcggaagagcagtcgggtgctcttacccactgagccatctcaccagcccgacttcttctttgaactagaattctatgttttttttttccttcatgtcacctaactacttctctataatattggttgtattttataattggttaattatactgtgtttattcatttttcttctctctgttgactttttctcctgttacttattccttggtttctcacatgtttttcttttgccccttactttgtccccatcctccattcacctctgtttcccgaccgttcctctcccaactcatttccttccttcagatgtcatcaggttctgagacttagagcagtcaggagcactggcttggcgtaacaacacgagtttgttctctagaactcactaaaaggccaggtgctcatggtgtgcatgtgttctctagtgctggggacacagagacaggatccttggggctttctggacagctgaatcattgagccacaggccaaagagagaccctgtctcacacaaacaaacaaacaaaccaaagggcagatggctccttagcaacagtgcctgagaccgtcctttgctccacacacatgctcatgttcacgcacagacacagctattatcatcagtcctcctgtcacctgatggccctgacattctcagtccctctcagggctcctgagtcacctagctttacagcatctccacagcctactctgagaaggaacgtgtaaagttttaaactccttttttccctcctaggtaagggtttatatttgtatttatcattctgttcctctagttttaaatggttgctaagagaatgaaaagagtagagccgagtaggagacagttttctttcattaagtgtagaagtatgaagtgtgttgtggctctcagtctgcagaggaggtttattatgaggacgaggctatgagcagtgaagtaggaagggaagcgttactctaaagcctctactcagagcgccatcagtgtgtgctaataatccctggactttcaagtttctaaaatttgagtaacgtggtattaaaaaaaagaaacaaataattttttgtacacctacttaagtataggtcaaatttcaggatctgtgtagttttaaatgttagataaagcagtatacaatatgtggaaaatatcttatttgtcatttagtggtttgggcagtttgtttaatgcttaaccatttcttaatcattcgcttttttatttaaaaagacgatgacagcggtggtggtggtggtggtggtggtggtggtggtggtggtggtggtggtggtggtggtgatgagaagaggggctgggaaagtggcttatggctaagagcgcttgttacataagcatgaggactgagttaaaaccctaagtaccctcattaaaggagaatcaggtatgcagctgtagcctcagtactaggagacagagacgacaaatcctgggagcttattggctacacagtccagataaatgacaagccttgggttcagtgagagaccgtgtctcaagggaattaggcaaagagtgttagaagacgtcagacatctttctctggctctcttgtgttacacacctgagtgtgcatatatacacacatacatacaacactcactcctcccacaccaatgaaaaagaaacaagagggagaggaaatacagatcacgcatggagtttgatacaagacgagccacagtgttactagaaagtttggacagaaccttgattgatgccagagtttggcaaagttaatttgaatgcagcgtggtgatttttgtgggtgggaggtaggtggtactgcatctgtgttccacagtgcctttgcttgctagtggtcattgtcttaatgactacttaagatataaattctcttctcccttcactttttacttatgtattatgtgattttttgttgttgtttttgttttttggggttttcgaggggggttgtttttgttttttgagacagggtttctctgtatagccctggctgtcctggaactcactttgtagaccaggctggcctcagaaatccgcctgcctctgcctctcaagtgctgggattaaaggcttgtgccaccactgcccggcatattatctaattaaaaaaacttcatctgtatagttattttaatttttaggtagatattagattcatatagtgaaatctttgagctcagtatttagttttgttgttgttttgagacaggacttctctgtgtagccctggctgtccaggactcattctatagaccaggctggccttgaactcaagagatctacctgcctctgccctcctgagtgctgagatcaaaggtgtgtgcctccactgccctgctgtcttcaggtttaaatactgcacgtggataaaataaagaaaactaccacagttcctgcctgagagtcatgcccttctgatcctgtcactcttgctgttccccctccagcacctctttctcctgtcgcaacagaacattgtgcttgttgctttgggggaaatattttccctaaggggtcagttcttgttactaggctttctccttcttacgtgccttcatctcctcttccatttctgctgtctccaatgaaggggaaggaagaacagcctttgcctcaaactcgattcatgttttagtccctgtgccatggctagacttacttcttttgtacaaaacttttcatttctatgtagtagtaggtaagtgctctaccactgagatgcaccttcagcacttctatggaataaaaattcagacatgggggggggggcatatgagcatgtggaaggtggaggttggcttcaggtgtttccttctaccatttttttcctgatgtttggagagcatctctccaagtctggagcatgtccttggccagattggcaggccagggatgtccaggatccttctatctgctccccagcaccgagggaacaggcttgcaccattgcatccagctcgttcatggatctgaactcaggtcctcatgctggcacggcatgcagtttatctcctgagccatcctcccagtcctcagtaagggcttaccttagcgttattacatatacttgtctcagagcagagtctccaccccaccagtgtcataaatcataagtcatcagggtagagggttgcgagtccatcaagagaccttttctgaggatggcggtatgacatggagaattaagaggaaggcagatcattattcagctatttgtatttagaattgtagtgggagggtgggctggggatttagttgctagttttctcatgctaccttgtcaggaaaggtttctatagcacttcttctaaactatgattctgcgcgtgcacataactgtgtgaaaaatgaaactcatttagtaaagaagtgggaattcatctgcccctgtcttaactgtttttctcagGATGATGCCCGACAGTTATTTGTTTTAGCTGGGAGTGCTGAAGAAGGAGTCATGACTTCAGAACTAGCAGGCGTGATTAAACGTTTATGGCGAGATGGCGGGGTACAGGCATGCTTTAGCAGGTCCAGGGAATATCAGCTCAATGATTCTGCTTCATAgtaagtgattttttttttcctttgaaactgtgatagacaataagttggtaactgagcagtggtggtacacacctttaaccccagaacttgggaggcagaggtggccggatttctgagtttgaggccagcctgatcaacagagtgagttccaggacagccaggactatacagagaaaccctgcccccgaacaaacaaacaaataaataaataataatttggtgactctagagaatgttcattgcctatccttaaggaaatgtttaagtactaatgtccaaaagtttgtaggatcctgtattacagttgtctcactttaaggttatctcagagatctatttataataagcaagtaaagttgagacatctagatgccctccgtataggacaaagcactgatagccagctagaggggtaacaccccattacacacactcactctcactcacacacacacacacacacacacacacacacacacacacatacagagagctgccccaccccttggttattattgtacttgagactggatctcactgtgtaactctggctggcctagaacacacagagatccccctgcgctgccttacatgctaggatgagatgtgcagcaccaccacgggtgtgccagtccttttatactcgatgtactgtgaggttttctggtagtagtcattacacttaaccttttgtgaatgtgtgttgtactagggattaaaccaaagcctcgtgcatgtggggcaaaggctctaccactgagtttcctcctcagccctcttgattgtttgagacacaatctcgctcatgctgacattgaactcattccgtagccctggcaggcttgagtttctgaccactctgcttcagctttccgaacagctgagatgacaagcctgtaccacaaaacccagcaccgtgcacctctcctgccagactgcggtggtggcttctgtgggatgaggacattatcatacaatagaatgaagcctttctttatcaaggaagctcacttgagtgttagttttagagaattggtaactagtacttttattcactgctacatttgatcccattttgaccccccgacacatttatatattcatgctgtagttttaaagtttacttttgggggacctggtgagtacttgacatctgtacctcctgccccccacaccccgccccccgccccccgccccaatcaagataaaggacttttggttgttaaggtattttctctagccttatattttcccattctcattctgtcacaattgttacaagaaatggtatatataaatgctatttataaagcttacttataatttgacaaacaataaaaggattcttgctgtctttttaaaactaagattatctttatgtgcgtatactggtagtttaagcaattcagtggctatcagaggtaaatttttaatcgtttcttctgtcatccattgagtaagctctgactcgccaaactacatgttatttataaagttgggtccctctgtcactgttcatccaagctcaactctgttaatggtggtatttggtttgtagatgatctgaatggcacacttaaagtagtgcatctgctctttttttttttttttttggtctggaatcagtgaagatttagcctttgtctttcccctactctcttccccctttttttgaaatggggtcttgttacatagcccaggctggcctgaaactttgtatcttcctgatttgtctcaaacatgtggcctcttgcctctgcatcctcgggtgctgggtttataagcctatactcacatatccacctatattctcactgaatgtagttcttctcattttcatatcaagtatcattctttaagaagctgtcaaatagttatgtatgcagctgacataaatttaagtatccaagaacttttaactttttgttattttattttcatatgggtcttgctctgtagcccagacttacctggaattcatggggtccagggttacaggtctttgtcacaatcccagtttgattttgttttttctgctctatagtgcatagctcacttcatattagatttagcaataatacaattgccatgtttttaaaatttgcttttacggtatatttaaaaccattcttgttactgtgtgtagaacctattaatttcccctatacttgattcacttttttcactcattctatgatactgaagatttaatatttttctgcccttcagtgagtttcagggtacctttgtttgttgtttgttggcacttgggattgaacctaggcctcacatgtgccagtacttagccagtcacagaattgacttttgccaagctgctagtttggtctgttgatttgtcatgtccatggttgactttaccaagtaaaaaccaatatgcattttatttagCTACCTAAATGATTTGGATAGAATATCCCAGACCAACTACATTCCAACTCAGCAAGATGTTCTTCGGACAAGAGTGAAGACTACAGGCATTGTGGAGACCCACTTCACCTTCAAGGAACTCTACTTCAAgtacgtcatagcctgttcttgcctgggtctggcacaaagaaccaaaagtttttttgcttttgtttttgagtcaagatctcatgatgtaaacctggatgacctagttcttgctgtgtagaccagggtggcctcaagtttgcatcttccacctctgcctgctgagtgctagggttgcaggtgtataccacatgcctggcttactgactccccttagttagcctctctgtctgggggtaagatctttgtaagcagtgttccttggtttagaaacttaatatttaagagccattagctcaatgttttatctgattacaccccacacatttatttatttttctcctccagatagcatcagtatttagagaaaattaaatgtaaaattaaataatagtttacctaccattagaattcattatacaattatcattttgtgtttgtttacattttcagcacgcttttgttagttgccaaataggtattgactattgctagaaggatcagagcgtactaaataggtagaaaataacgtatagatggcttcatcctgacgtgctgacgtgctgacagtaaaacaggactatttcttagcagcaccactcctctcagacggctccccttcccgttaaggttaatgggccagagctaagcttgggggccttgggtttgtacatgcacagcatcatgctcaattaagtttgtagtgcagggcaaaataggcctgggattgaggtgttttagagaggtgatgatgacgtagacagtaaaggacattctagtgtttgcagagaattttctcatagcaccagcaattccaagaaaaagcctctgcacttctttttgttaatagtcttttaaaaattactaaaactgtttttggttccttttttctgtgtttgtaacctttgaggttagcagtaaccttttctcctttagtgtgtgttcagtgtttaagaagtacctggtgccgggcatgcctttaatcccagcacttgggaggcagaggcaggcagatttctgagttcgaggccagcctggtctacagagtgagttccaggacagccagggctacacagagaaaccctgtttcgaaaaaacaaaacaaacaaaccaacaaaaagaagtggatttgaaacctgatgaatggtttcgggtaaatgggctgcttatcttaaatactgatgaagttacttaacaaagtccgcagaagctatacgaattaccctgtgaagccataggaaggaagtgtctctgtatactgtaaaattagtaattcagccgggcgtggtggcgcacgcctttaatcccagcactcgggaggcagaggcaggaggatttctgagttcgaggccagcctggtctacaaagtgagttccaggacagccaggactacacagagaaaccctgtctcaaaaacaccaaaaaaaaaaaaaaaaaaaaaaaattagtaattcagttctaattaaataccaaaaccatttttcattgatgtcataggttgatctttagctaggtaactatctttccatgccaggatcagtagccaagattaaagtgccacaagtactttgttttggcatgtagatgtcttagtatgaagtactgtcacctcttcattctcttccttctctaggcaaaaccactatccatttattcaaacatttactgaagtattgcaaggcattgtgtaattgctttgagttatgaggaaatgtttatacaatattgatgttagtgaataatactgtgttactaggtactaaaagccagctttgggacttcatagcatctctttgtcttatggacgttatagaaaatggggatgtaaactggaattattagtgtactaatgtgcctgtctttgtaagatttttatggtgaaatgttagccgttctatagcctacaacatgaccctggattaaggccaatctgtttagctgtcatgcaagaccaaaggttgcaaagaacagcaagatccccgaaaggaagggttgggtcaggaagaaagaggatgcatgctcacgtcattcgggaggtcacgtggactttccttctcttggtctacagggaaatcacgtggactttccttctcctcatctgtaggggtgaaaaaaatctcagcaaatttagaccccaggctactgaagatttcactcactagagcaatgtagcaaaaagctttatcattgctatcagatatagatcttgagagagtgtgagcatttgagtactgaccccatctagactcaggtattgactaaaagacaaagtaggacagctgttcctgtcaatgtaggaagtaaggatggacactgttggtacaaacttagcaattaggagactaaaacaaatccagattagaacatagggtgtgagcagcttccctccccgcacccccacccccacccccacccccacccccgtgctgctgctgctgctgctgctgctgctgctgatgatgatgatgatgatgattaggcccaggcaagctttggtggtgttggggaatacttggttacttagttacttttaagacagttgctgtgtagtgcaggctggtcttgaacttgctgttcttcgagctcagcctcctaaatgctgagattatagtcattcttcctaaacctagcacaagatctcaaattcttaaagcctgatatcaaatttaattttttcccataattctcttcatatgtttttcattaacacaggcaaataaactttgagctcagatgcaaggtgggtattcagaacaaaccagtttaaaagtcagagtgggactatggaaagtatatagagacaggacttagagtgccagatggtctagggtaatgcctggcaccatggtaaacacggaacaaatagcagttgtcatggctaccgttatcttaagccttactgttgagctcttcttcctttagtcctttttagttcttaactctgctgactttggcacctgtgttgaaagggggaggttcagctgtggcctatacttttaaccactgacaatggtttagacacattgatttgcttcttgtctttgttacaaatggggtttgagtgtgtgataatggagaggttctaaccacgacagtctcgagagaaataactataagtgtgacattactaaatctgtgcttttttttttttccccttactcagAATGTTTGATGTAGGTGGCCAAAGATCCGAACGAAAAAAGTGGATTCACTGTTTTGAGGGAGTGACAGCAATTATCTTTTGTGTGGCTCTCAGTGATTACGACCTTGTTCTGGCTGAGGATGAGGAAATGgtatgttgacgattggggtagaaagtccatctgatacagctaggaagtgagcgtgactcaaggaagacgggtgccactgctggctcacggaaccaaaacttaatgccctgtattttcttgtcagtggggctagagttcccaaatccttgttccattgcacatttgctcttggtagccacattgtgtgcacaggattgcatcttgtcatcttcttaaccccttaccccaagaattatgcaaatcaggactgactaggcttcaagtcacattaggacctactctatttccatgaattcagtttgttgttttaaaacttcttggtatgtgaactaatctgctttttattcttgctgctaatctgtcataaccatgtttgtttttcagAACCGAATGCATGAAAGCATGAAATTGTTTGACAGCATTTGTAACAACAAATGGTTTACAGACACTTCAATCATTCTCTTTCTTAATAAGAAAGACCTTTTTGAGGAAAAAATAAAGAGGAGTCCATTAACAATCTGTTATCCAGAATACACAGgtaaagggcgtgaggtgctgttggaggtgtgcatcgtaggtcagtgcttcccagctgccatcagctgccccaggactcatgcaggactcatgcactcactcacagtgggcgcagcagtaagcatctgaagaaacgccattaagtttcgagtgtgacttcagagatcagtgtcctcactttggaggaaaatgaaatacaaacatgaaattttggcatatgtccaaagagatataaaaacaaactttttaatgaaagtcattaggcagaatagaggcatttagagaagacagttgcatgtaagaaatggagaaggggcatgtggcagctgtggaatttaacgtactagcagggagaggctggccctgtgtcgagctagtgacaagtggccttgggcacatggtgtatgaacagcagtctagcagcagtgtagtgaggacggcagtaaggactgccttcggatgcagatacaacctttcagtgagagccaggatggcatcttaaaagccaaggacaaggatatgggtggggctaggagtgaaagtcagactgtgaagtcagtgccagtgcgagggaggcacctctaaaggaggtcacttcatctctgtctctttccttggctccatgtctattcttctctgtccccactaatgtcctttactattcagtttataagatgaaggatggcattgccaccatttctgtgtctcttccattaaaacaatgaggtcatactgggtttgcttgacttccaattcaagtttctctgggaaagattctggttatagctaaagaaggtaaaacgctgtgggccagtcggctatttgaaattagggatcacagacaacaatggcagaactgtgccattatgaaagctgtgaccagatggccagagtgagaaggggactctctgagctgtttccgtggatgggggctctcactatctgagactctgctttcttttgagaatacagtgaaaggttcagcaaacattagaaagtcaaaggtgtcttcactcaagtctctcagttggatactttgctatgatctgaatttatattttggaatgttgttttagaagtatctgtagaataaccagatagaagtgtctgtttggtagtgatccttatactagggacttagggaaaggttagcttagatgtataaacctgagaacagcagtaattaacttattggagataaatgaagttaccagagagatgactataaaatgaggcgagaaacgataaaatgagacaaatactagctaccaacaggagagaaataaaggtttataaaggatacaaaagaaaagaaccagaatctcttagaaagtaaggggagtggacagtgaggtggcccatcggataaggtgcgtgcctccaaacctgatgacctgagttcagctcctggacttggattacaggagggaactgactcccataagatgccagccttgtggagagtgaagactacacagagaaaccctgtcttgaaaaaccaagatgggaggggggttgcgagctctaggcacctaacaaagtagtcttcctttagttctgtatttcatgtgttctttctttctcccaggcttctttatgtacttacttgatatttcttgccatgcttgatctcacccaaaataggctctggtttatgaaaacagtgtacattgttttgacagtgtccttgacgctacaggcggtttctaagaccgtgtggaaagtggacgactgagtgttaattatatatattaaaaagaaggctttctgttggtctcctcgtgcccctactccttagaaagcagctgcttgttgagacagacttatcctttaaagtgtgttactggctgtggatgggcaccgtgcctgcatcccagcacttgggagggcgaggtaggaagccatgagtttgaaggcggtgccgggtgaggagaggtgtcagagtctataactggggtcccacttgttccccatctgttagtttgcctttgctggtgcctctctaggattggaatgatgtttaaataaatgctttacctgttgggagcccttcgtccagggtcactccaaggtcagggtctcagaggaagtgaaacttgttttcctcatcccttgagcatgatggtttggttttagtgtccgtgtgagtctttcttatgaaaaatccaatgactgcagaaaatcctaagggtaatagaaatagaggcagaattctgtttgtagtcagttgtgtggtgttgctttccgtaagtaaatgctgatggcctaacttagctgggtgcaggcagctgttacacttgacaatgttggtcgtctgcctcagGTTCCAATACATACGAAGAGGCAGCTGCTTACATTCAGTGCCAGTTTGAAGATCTGAACCGAAGAAAAGATACCAAGGAGGTCTACACTCACTTCACCTGTGCCACAGACACCAAAAATGTGCAGTTTGTTTTTGATGCTGTTACGGATGTCATCATTAAAAACAACTTAAAGGAATGTGGGCTTTATTGAGAGGATGGCATAGTAAAAGgtaaaacttgagacagtttagttaccactgggggcggggtagctttgtaaatgtttttctgattaacaatgtcttctcttttttagCTATTACAGGGAGGAGTGTTGAGACCAGATGTCATCTACTGTCTCTTGGGTCAGCAGCACGCATGACAGGACCAAGGAATGGCAGCAACACGCAGAATCTTAGCTAGCGCTCTCCAGCAGTCTTCTCTATTAGGGAATGTCTAATTGGCATGAGATGTTCAAATCAGACCTGGGATTGGACAACTGTAAAGTATGACTGGATCGTCAGGGCGTCGCTTGGACTCTGTAATCTAATGTTTAGGGCATATTGAAGTTGAGGTGCTGCCTTCCAGAACTTAAACATGTAGCTCACTTTCCCCCATCTTTTTGACAAATGACCAGTAGTTAATTTCTAAGGTTTTTCTTATCAAGAGAAGAATACTTAAAAACTCTTCCTTGTTTGCAAAAGAAACTTCTGAGGACTGAGTCTTAACTATGCACACAATGTCACCAGACATCTTGAAACTATTCCTCTTAGTAGGAACTGTTTGTTTTTAACTCTTGGAATGGTCGGGAGTAATATTTCAATAATTAAAATTCTTCCTGGTTATTGGGACTATATTAATAGAGCTTTTCGGAATGAAATTTATGTTACTGTCATGTTTAAAGTACCACAATGGTTTCTAAACAGCATTCACCTTGGAGAGTTCTACAGTACGATTCCTGCTCTCATTGCTTTACGCTTACGGTTGGAAGTTGTATTTGTCGGGGTTAACCTTGTTTGTGCTGATTACCAAATTACTAGATGAATACTGATGTAGTGTGTTAAACTGCTTCTTGGACACACGCAGGATAGCCGTCAATGAGATGCAGATGCTAAATTGAGAACCAGTGGCTTGCTGCTACAGGTCTACTAAGTTGACCACATGGAATCTTGCCTGTTTGTCTCGGTCATGGGGAGGTTTTGAATAAGATGCCCCTTGTTTTCCATCTTCGTGGCCTTTTTTGTTAGGAGACATCTAAAAGTGTATTAACAGTGCATGCTTTTCCTTTGTAAATGTGGTGCCAAATCCCTGTTTGCCATCGTTTTTACTGTAGCAATGTTAACTGTAGTAGTAGTCCTTACTATATTCTTTTTCTAAAACTTGCATTTGGGGACTTTTTCCACCTTGTCGTGTACAGATTTGAATCTGTTACAGTTGGCAGCAGTATTAAAACAAACGGTGAGTGAAGAGCCTACGGTTGCTCCGTGCATAACTAGTTCTTTCTGGGGATCCTGTCTGTCTCTTTTTTCCCCTGACCTCTGTCTGAGAGTGGATTTATTAGGTAGAAAAGTGTCTTTGAAAGTCTAGCTCCTTGATGTAATAGTATTACCAAGTCAGGACTGAGGGCTTTATGTGCAGTCCGTGTACAAGAGGAAAGTCACAATCCGGCTTTCGGATGTGTACAGTTTGCTTGTGCTGAGAGCTACAGTCCTTTTGTACAGTATATATCAAATGTCATTAAACACTGAGTGGACACTGAGGGACAGCAAACAATGCATTTGGAGCATTTCAGATCAGTAGTTTGATCAGTGCCTTTTGAGGTCCAGTCGCTGTGGCTCGGATCCATTCATCTCTATGTTACCTCCTACTCGTTTGAAAGAAGGTTGATGGTCAGAACTGCTTCAGAAGCAAGCCACGGTGATCAGTGCCTTTGTTGGCAGCTTTTACAATTTTTAATTCTTACGTGTTTTGCAAAATCATTATTATGCAGACAGTATAACTGTTATCTTACAAATATTTCGTTAGGGCTAGGAAAATGTCACTTGAAAGAAAGAAAAGTATTGATTTCAATCGGCGATTGACTCAATTCCCACAATGTAGGGGCTAATAAGTCTTACTCTGAATTTATCTTTCCTTTGTTGTATTCTGTAATATAAGAACATCTGGTGAAATATTGTTTTCATAATTTTTCTATACTTTGGGTTTAATAAAATGGTGTTGATAATCTAAAATATTAGATAATCCAAATTTAATTTTACTTCAGAATGCATTTTGTATTTTCATTTGAATCTGTCTATTTTTTAAACCTTTCTGTTAATTAAAAATAGAAGTTCTTCACTTCTTTGTCTCTGCA'"
      ]
     },
     "execution_count": 46,
     "metadata": {},
     "output_type": "execute_result"
    }
   ],
   "source": [
    "# sy.write_fasta(Se_premrna, \"./grch38/Homo_sapiens.GRCh38.94.premrna.fa\")\n",
    "# sy.io.write_fasta(Se_premrna, \"/Users/jespinoz/Documents/NMD/Mus_musculus.GRCm38.77/Mus_musculus.GRCm38.77.premrna.fa\")\n",
    "Se_premrna[\"ENSMUST00000000001\"]"
   ]
  },
  {
   "cell_type": "code",
   "execution_count": 48,
   "metadata": {},
   "outputs": [
    {
     "name": "stderr",
     "output_type": "stream",
     "text": [
      "Reading sequence file: /Users/jespinoz/Documents/NMD/Mus_musculus.GRCm38.77/Mus_musculus.GRCm38.cds.all.fa: 52998it [00:01, 51239.33it/s]\n"
     ]
    },
    {
     "data": {
      "text/plain": [
       "'ATGGGCTGCACGTTGAGCGCCGAGGACAAGGCGGCGGTGGAGCGGAGCAAGATGATCGACCGCAACTTGCGGGAGGACGGGGAGAAAGCGGCCAAAGAAGTGAAGCTGCTGCTGCTCGGCGCTGGAGAATCTGGTAAAAGTACCATCGTGAAACAGATGAAAATCATTCATGAGGACGGCTATTCAGAGGACGAATGTAAACAGTATAAAGTAGTTGTCTACAGCAATACTATTCAGTCCATCATTGCAATCATACGAGCCATGGGACGGTTGAAGATTGATTTTGGGGAATCTGCCAGAGCAGATGATGCCCGACAGTTATTTGTTTTAGCTGGGAGTGCTGAAGAAGGAGTCATGACTTCAGAACTAGCAGGCGTGATTAAACGTTTATGGCGAGATGGCGGGGTACAGGCATGCTTTAGCAGGTCCAGGGAATATCAGCTCAATGATTCTGCTTCATACTACCTAAATGATTTGGATAGAATATCCCAGACCAACTACATTCCAACTCAGCAAGATGTTCTTCGGACAAGAGTGAAGACTACAGGCATTGTGGAGACCCACTTCACCTTCAAGGAACTCTACTTCAAAATGTTTGATGTAGGTGGCCAAAGATCCGAACGAAAAAAGTGGATTCACTGTTTTGAGGGAGTGACAGCAATTATCTTTTGTGTGGCTCTCAGTGATTACGACCTTGTTCTGGCTGAGGATGAGGAAATGAACCGAATGCATGAAAGCATGAAATTGTTTGACAGCATTTGTAACAACAAATGGTTTACAGACACTTCAATCATTCTCTTTCTTAATAAGAAAGACCTTTTTGAGGAAAAAATAAAGAGGAGTCCATTAACAATCTGTTATCCAGAATACACAGGTTCCAATACATACGAAGAGGCAGCTGCTTACATTCAGTGCCAGTTTGAAGATCTGAACCGAAGAAAAGATACCAAGGAGGTCTACACTCACTTCACCTGTGCCACAGACACCAAAAATGTGCAGTTTGTTTTTGATGCTGTTACGGATGTCATCATTAAAAACAACTTAAAGGAATGTGGGCTTTATTGA'"
      ]
     },
     "execution_count": 48,
     "metadata": {},
     "output_type": "execute_result"
    }
   ],
   "source": [
    "Se_cds = sy.io.read_fasta(\"/Users/jespinoz/Documents/NMD/Mus_musculus.GRCm38.77/Mus_musculus.GRCm38.cds.all.fa\", description=False, func_header=lambda id_transcript:id_transcript.split(\".\")[0])\n"
   ]
  },
  {
   "cell_type": "code",
   "execution_count": 49,
   "metadata": {},
   "outputs": [],
   "source": [
    "sy.io.write_fasta(Se_cds, \"/Users/jespinoz/Documents/NMD/Mus_musculus.GRCm38.77/Mus_musculus.GRCm38.cds.all.no-description.fa\")"
   ]
  },
  {
   "cell_type": "code",
   "execution_count": 19,
   "metadata": {},
   "outputs": [
    {
     "data": {
      "text/plain": [
       "ENST00000441558    10001\n",
       "ENST00000513749    10001\n",
       "ENST00000548721    10001\n",
       "ENST00000523248    10001\n",
       "ENST00000575320    10001\n",
       "dtype: int64"
      ]
     },
     "execution_count": 19,
     "metadata": {},
     "output_type": "execute_result"
    }
   ],
   "source": [
    "# Se_premrna.map(len).compress(lambda x:x > 10000).sort_values().head()"
   ]
  },
  {
   "cell_type": "code",
   "execution_count": 20,
   "metadata": {},
   "outputs": [
    {
     "data": {
      "text/plain": [
       "'GGTCCACCCGCGAATCCTCTACAGAGATGGCCAAGCGCTGGGGTCGTGGCTGCGTCCTCTAGGCCAGgtgagaatttacaacccaccctcggccactgttgtgctgtggccgctgatgattaagcatgaggaactcagaaactctgaaccttctgacaaacgggttctcccctgcccaccgcggtgccccaaacccagcaggacagattggtttacatggtggggcattggggaggacccagagctttcaataagggaagaaatgatgtggggagggacagtaaatcaaagtaggggattaggccgggcgctgtggctcacgtctgtaatcccagccctttgggaggctgaggcagatggatctctcgagactgggagttctagaccagcctggccaacatggcgaaaccccatctctactaaaaatacgaaaattagccgggcgtggtggcgcgcgcctgtaattccagctactagagaggctgaggcaggagaatcgcttgaaccctggaggcagaggttgcaatgaggcaagatggcgccactgcactccagcctgggctacagagcgagactgtctcaaaaaaaaaaaaaaaaaaaagtaggggattagagctggccacagcttccccagtaacctgcagttactggagcaggaaggggcctcggagaatccctggaagcatctcaacagaatccagaggggacaagaaaagaggagggatacgtctgtcgcatccttcccttctcattgatccaagtttgcactagtggtgtgagccctccttatcttccaggccttggtgggcagctgttgacatgtccagaaccccaggaagtgctgaaggtacctgcagttcaggccccatggaagcccagacctccttcacccttcggggacactgaaattggccaaatgtttaggccatgaggatggctgctgagtaagcccataatccctacatcggacacaagtaagcaggtgaaggcctacaggtagcaggtaggggccagtgaatcttggaagcaaagatttgggggtcaagaacagcagggagctctgggcccccatcctagcttcaaccagagcagctccaggactcctggctttccatatgggcttctggataaattttaggtactcctgaggctgaataagctggaaagcctctgccatcacccaactccgttattttagaggaggaacaggagccaaaatgggcagtgacttgtctgaggccttgccagcttgaagaaggaaatgtccgctgaacccaacagtggccctggtaaggcctggtgcattgcaagttaccggatgaaaatggtgactggccgggtgcagtggctcatgcctgtaatcccagccaaggcgggcaaatcacttgagatcaggagtttgagaccagcctggccaacatggtgaaaccctgtctttaccaaaaaatacaaaaattagctgggcatggtggcacgcacctgtagtcccagctacttgggaggctgagaggggagaatcgctggaacccaggaggtgaaggttgcaatgagccgagactgtgccactgcactccagcctgggtgacagagcaagagtccgtcacaaaacaaacaaaaacagaaacaaccccaaatgtccgtaagtaggagacaatatatccaacacatgaaatgctctgtggttcatgagaataaagaagacccatatgggttattctgaagcaggttccactacactaagctgcactaagtagttttaacaggcagaaatggaacagagtggaagtgcgtgcacttaggagggatactctccagggagaattcagggattgggtgggagaagggagccttgcttttcatggtccagccttttagacggttttaatgtttaccatgtgcatgtttcacttaaaaaccaaacaccctaggtgaggcatggtggctcacactgtaatcccagcactctgggaggccgaggcaggtggatcacttgagctcaggagtttgagaccatcctaagcaacatgacgaaactctaccaaaaatacaaaaaaaattcgccaggcatgatggtgtgtgcctgtggttccagctacctgggaggctaaggtgggagatcacttgagcctggaaggcagatgtatcagtgagccaagatcgtgccactgcactccagcctaggtgaccagggcgagacccccatctcaaacaaaacaccctagagtccccacccctctcgttctttaaacaccagcattgctgcccttcactttcttgcagccttgtgcaaaggaccttctcaccacagatcagccagaccatcttcctccttccaagtcatcaaagagttccaagctggtcacctgtcccttgatgttcccaggaaaccaggaaagaggacccctgcattttatcttcccatccagagtggcaggatctctgcctgggaaacaggcttcattcagcacagctgtggtagcattaacaaagcaaagtgggcacatgtagaagttgaagctaaaacattcaagaactccagtctgtttctgtggatgttaagggggtgaagataaaacaatggaggtgatgaggaggaataacttgaagacagtttaaagccacagtgatacaaagaatgaagagaaggaaggtgctggattttactaagaaaacagactgagttcaggagtctcaccagtagaactttatagtattgcgtttcgattacatgtgtgtgaattttaaaaactgattaccctccagtaaaaatgtggaaccaatttgcatttggattaaaacattaggtttggggacaaaagtggaccccatgctgcctgagatgaagagagagagcaggatggcagaggaatcaccagctcaagaaaccccaagacttggacagtcttccagcagaagaggccagggtctctcagtgtactactccaaacaggcctctcctagagatgtagtctgggaaggtccaaaacccaccagacaggcacatccagtggggaaaagacttcccattccagtgtggcctgcatccctcacctctgcttcccagtcttctgctgacctcagaggagcagggtggccattgctgatctgggttagggagatgccagaaacacacccaggtttgaaccacaggttagtggtacaaagtcacagtccttgtgccttcagaaaacccagaggccccaaatacgagtgggaagagagttgggaaaaactgaaccagactcttccaatggccattaaagagaaaattcagcaacgcttgcctttgtctttgaccctgagaagttaagggacacagattgtggcgccgtgatggaacatggagggaaggcatggtgtgcttcctgcagagatgcctctggagtccctgtggccacgggatctcactggccccctcttcaggcaccttgatggggctcagtggggccaggccgaagggtggaagtagaaaagcatcaacaggctgtccagatcaattggcaccatccaaggccctgctgcacccacacatggaggtcaccagctcagccccaggggttctttcacacacaagctccttccctaaggagtcctgtggggttccacactcagtgtgctgcccaagtcagagatttaccacagatctgtctccccctcaacctggactcaagttactgtggtgagaaacctcactgtccatggttaactgaagaaatccctccttcagaaagaacttgagtagtagatgaggtggttagacaggatctttttccctcaagctgtttggacgccacagccaggaccaactctgacagctgcgagagagagagcccctccaatgtggaacctcctacacagccccccttttgggtccctggatatgagcccccagcaggaccaccactctagggggaagtctccctcccatccctcagatccccacattgttcctcctgtaggagaaaagtcagccctgcccctggagcttctccaagatggcactggactcgccgttatcttgaggagccaggagctgaaatggctccggcttagcaacccagtatggccaaagtggaaaggttctctgtcctttgcagtcaccaaaaaaaaaaaaaaaaaaaaaaaaaaaaaaaaaaaagtatggtctcacaggcacagcatcttcttttaaaaaataaatatttataaacttaaggaagattcaaagaatcagggtatcttttcctccaaaaacacaaatgtcccgtgtaagtcaaaccaaggtgcgaccaccaacccatgaatgaagtcccctccccctgcagctacagggttgaggggcaggtgggcaggggagctgctctctctcctgccttcagtcccccttggtgatgaggtcctcaatgtaggcgtccagctcatcatctgtgttgatgtctatgtcctggaatagagcagggtagggatcaactgggggccagaaagtgattggggggctcacctttccacccttctctcagctcctgggatggagcccagagtcctctccctgacctcccaccccgccctggatgtcaggcttctgtcctgtcttaatcactctcccctccctcatctattgtgcacagatgatgcccagatttcctacgcccaccctgcctctaccccatgttcccaattgtcttagatgtatatttccctcagatactacaaatatgcccacttctctcccttctctgtcactgcccaaggtccaggccaccactgtctcagacaactgtgggagcctcctcacaggaggctctggttctaactttgacccctccaggcctcctccaaccaagcaggtacatgtctgagactgaaaactgcatcatgccacacccctccagtgatctccactgttctcgggatcaaaccccacaactttcaagccctgcctctgcccctaccgcccccaagtccctgctcaggcctcaagtcctgctcttcttccttctgcctggaatgctcgtgtcacactctttgcatgactggcttccagtgtctccaaatgcctaagcccctgaacaccctagtcaagtggcctccccacactttactgtatctccttatgaaccaccatcagtaattctctctcttccaccagactggcaggctgtgagagcaggaaccttctctggcttgtcttgttcattctgtatccacaggacaggcacagagcaggccctcatgcttattgcctggatgaagggccaacaggctaaggggtgctccccacttctgggctacccaatcccatctgggcgtcatgtggaaaagaacttcgtttttatggcttggagggttctcaaaccaggttgtacgtcggaatgtctaaagggaaaaagcctggttctatgggtctggctgggctgaggaccaggcagccacaccatctcaagccctcctgccagggtgctgtgcagccagggtgagaaccatagattcctgtgagtggatagattcttgtgagaacaggaacagggcccaggcccccctccctgagagaccaggtggtccagctgcaacaggaaggctgccgggctcacctcctgcaccttttgcaggagtgccacgatgttggtcctcagcttctgcagcttctcctccgtctcgcggagcttcctctcggaggtgcgcaggctttcctcggaggccttggcccgggagtcagcacggctctggtaggaattgcacaggttttggagccctacttcatattgcttgaagtactccttctgttgggagcagagcaagagggagagtgtgtaagttcacaggggtccccagggcccttctaggctgacacgggtgtctccagcccgctttacccaaggatgcctggtctgaaggaacatcttagatacaaagggcaaacagcctctttacgtccagagtagagagacatcaatgcctatcttgtggggctgccacaaggaagaagacaattagcacacaggtgaagcactcagcacagtgctctggcagacagcaggccgtgaggacgcgtgaggggcgattcttaccattccaagtgacaaaaaaggatgacagaatcgctcttccatgctcaatcataacctgtctgacttcagtacagccctttcaaccacccacttccaagacatacccaacaatgtcagcgctcatgtcagttctctttccacctaccaaccaacagcagatatctccagatctgtggagtagtatatacttctacagcatcagagctttttactattttccctgagtacctgaaacctccagggggagaggtaggaagggaaacaagcagtttttctagtggcttttcagacttataaaagggagcagaatacttgtttcaaatgaaatgtcacatggaatctcagtgtgaaaaacaatgttaagtagtatctctttaggttcaatttattttccaagttcaaatttataacatgacttactcgtaaatcactgagaatcatgaggccactgtgatgaacacacacgccacaaccagcaggtgctagctggctgctgcagtcttatcaactctggtgtttacttctgtaaagatgcattagctgcctagcctggagaggcttctagatgccatttttaaaaactgttactggcaagtatttaactgtgtcattcaccttatcctactaaaccaagatagcaagagaaacttctagttctacacaaaacagtaattgccttggcagcacaaaataaatactggagcaatctccaaagtattaaaattcagtatacaacatcttgaaagtagacatggtttgtaataattttttcttaattattttgaggtaactgtagattcacatataattgttacattagtttttttgaaaaaatgatactttaatattgcagggctcctgaggctctatggaactcctgatccatatggtataaaggacgtaactgacaaggacataatgaacagtagactttgttttatccctgatgctaaaaaaatagtttgagtgatggccaggcgtggtgcctcacacctgtaatcccagcactttgggaggccgaggcaggtggatcacgaggtcaggagatcgagaccatcctggctaacacggtgaaaccccatctctactaaaaatataaaaaattagccaggcgtggtggcgggtgcctgtagtcccagctactcaggaggctgaggcaggaggctgaggcaggagaatggtgtgaacccgggaggcagagctggcagtgagccgagattgcgccactgcactctagtctgggcaacagaacgagactctgtctcaaaaaaaaaaatagtttgagtgattttagacattacaattagcaggacaaaggtgatacactggtattatacctccttgtacaaaaagaagctaatatactttttttttgacacagTCTCGCTCTGTCACCCAGGCTGGAGTCCAGTGGCACAATTTCAGCTTACTACAACCTCTGCCTTTCCCCGGGTTCAAGCGATTTTCATGCCTCGGCCTCCCAAGTAGCTGGGATTACAGgcatgcaccacaacatctggctaatattttttgtacgttgtagtagagatggggtttcaccatattggccaggctggtctcaaactcctggcctcaagtgatccaccttcctcagcctcccaaagtgctgggattacaggcctgagcctccacacccagcctaatatactatttttagacactcatgcactttgtttgggcccaggcattcaagcccactgcagagatcctgctgcacccaggctctactctgagtttggcaataaccttaaaccaaaatcaacaaatctgacaagatgccaggccaacctagccaccctattagctgcttgttcctcctgggatttgcagagagcacctgcagcctaaacaaggacaaaagttgaagcatggatctttctgtgcagcagctgtgatttctgcaccttctagctccctcgccgagcaccactccctcatatcttgctggcagagcaaggcagcatcgtgagcagagcaagtcctaagaagtacatgggttcaaatctggtctctgtcactgaccaacagactctttacctttctgagccttagtttcttcaactcctgcttcatttcacattttaaaaagtagaataaagacaaactccatgtttttatctctggcaaactttatcaagcacacaactgccccacgaggacccgacatcttgaatatactaatcctgcagtttccattcccattgtcttttctctagaacctctttcctagaaaacttagctattcctataatagaaaaatcatcccacttcatgtggacaattcccagagccccatctccagccctggcctccccctccctccaagtgccagtccttgatctccacgtgcacaatgcacatcaccagaaacgtagtgagggcacttctggtgccacataaacctccactcgtcaccttcattgcactcacccatttttctctcctagttaatagctttgtcatcaacctccaattcccacagacctgagtcacttgcctacaatccatgatcagtctcctgacgacctctgacacagccctttcacccccaagcccactgccaccacgctgactcctgttcccattccctcacctctgaccttttacataggacctgcctcctcgcccctgcatctcccatccacccattctacccaaacacgctgctacccaaatcaccctcttaggggaaggggcagcagattacagcccctgggccgaatcagcctgccaagtgtttttgtaaataaagctttgtgggaacacagcacatccattcctttacatactgtctgtggttgctttcgtgctataatggcagagttgccacagagactgtatagcctgtgaacctgaaattacttgccaactggccctctacagaaaaaaatgtgtggacctctgccctagacatggtttggatgacagttccttcagctcaaaacttttgcaggctgtcctcttcatacagagtttaagccagtatgacttacactggggattcaagacacatcagatcctgactttcaggccccttgaccctaaatgctcaccacacagcctgttgcctggaccccactcccagagcctttgctcacagaagcccccacctcaaacactccttttcacttacacaggcaggcacttggcaaaatgcacattttcttccaactcagttgctctctctgccccccaggccaccacagccctccatagcctttctatccactttctcagcactcgctgctcctgcccccatgtccagctacccggtaacaactcagtctctactgaatcttgagcctcttgaaggcaagactctcttttgctgctcactatgaggtccagcagacacctgcttgggcaaggcaccccttcagcatttgctgggttaagtaagatccaatgcttatgtccacacatcacaagtttctctatacctccttctgagagtcaagttctatgcacttcgagcctcagctcttcactgttgcctgggacaggtttactccctctactggggcagaagaaagtgggtatgcttgtcataaaatgtcaaactacacctgctatccctaagggatgactcaactcctagcacctgtggtgggaaggggttggctttctgcacaccagagtcatatccagctaagccaatttttttcccacatcataaactctcctcttctttcagCAGGAGAGAGGCTGGCTGAGATGGAGCACACAGCTGAGAGCTAGCAACTGCAACAAGCGTAACAATCATAATCACAACAGTTACAACAAATGCAGGGGCAGGGGTGGGGGAATGAAGAGTGTGGAATCGAAGGTCAGGCCAGACTCACCAGAGGAAAAGATATTAGCTCATCTGAATTCATAGCACTCAGCTGCTTCTTGGAGATGGGGAAACTTGGAGGCAGGAAGTACCGTAAACAA'"
      ]
     },
     "execution_count": 20,
     "metadata": {},
     "output_type": "execute_result"
    }
   ],
   "source": [
    "# Se_premrna[\"ENST00000441558\"]"
   ]
  },
  {
   "cell_type": "code",
   "execution_count": 1,
   "metadata": {},
   "outputs": [],
   "source": [
    "import soothsayer as sy"
   ]
  },
  {
   "cell_type": "code",
   "execution_count": null,
   "metadata": {},
   "outputs": [],
   "source": [
    "sy.microbiome.extract_intergenic_sequences()"
   ]
  }
 ],
 "metadata": {
  "kernelspec": {
   "display_name": "Python 3",
   "language": "python",
   "name": "python3"
  },
  "language_info": {
   "codemirror_mode": {
    "name": "ipython",
    "version": 3
   },
   "file_extension": ".py",
   "mimetype": "text/x-python",
   "name": "python",
   "nbconvert_exporter": "python",
   "pygments_lexer": "ipython3",
   "version": "3.8.2"
  }
 },
 "nbformat": 4,
 "nbformat_minor": 4
}
